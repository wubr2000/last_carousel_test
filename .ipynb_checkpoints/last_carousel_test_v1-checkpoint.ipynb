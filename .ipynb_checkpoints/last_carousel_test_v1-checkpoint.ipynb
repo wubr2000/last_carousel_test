{
 "cells": [
  {
   "cell_type": "code",
   "execution_count": 1,
   "metadata": {
    "collapsed": false
   },
   "outputs": [
    {
     "name": "stdout",
     "output_type": "stream",
     "text": [
      "Populating the interactive namespace from numpy and matplotlib\n"
     ]
    }
   ],
   "source": [
    "%pylab inline\n",
    "from __future__ import division, print_function\n",
    "import pandas as pd\n",
    "import numpy as np\n",
    "import scipy as sp\n",
    "from pandas.io.json import json_normalize\n",
    "import json\n",
    "from datetime import date, timedelta\n",
    "from time import time\n",
    "\n",
    "import matplotlib.pyplot as plt\n",
    "import seaborn as sns\n",
    "\n",
    "import warnings\n",
    "warnings.filterwarnings('ignore');"
   ]
  },
  {
   "cell_type": "code",
   "execution_count": 2,
   "metadata": {
    "collapsed": false
   },
   "outputs": [],
   "source": [
    "df_raw = pd.read_csv('/Users/bwu/testing/large_data_folder/last_carousel_table_6_rolling.csv')"
   ]
  },
  {
   "cell_type": "code",
   "execution_count": 3,
   "metadata": {
    "collapsed": false,
    "scrolled": true
   },
   "outputs": [],
   "source": [
    "#Initial cleaning of feature names\n",
    "df_raw.columns = [col_names.replace('rolling_','') for col_names in df_raw.columns.values]"
   ]
  },
  {
   "cell_type": "code",
   "execution_count": 4,
   "metadata": {
    "collapsed": false
   },
   "outputs": [
    {
     "data": {
      "text/html": [
       "<div>\n",
       "<table border=\"1\" class=\"dataframe\">\n",
       "  <thead>\n",
       "    <tr style=\"text-align: right;\">\n",
       "      <th></th>\n",
       "      <th>first_visit_num</th>\n",
       "      <th>experiment_visid</th>\n",
       "      <th>experiment_control</th>\n",
       "      <th>experiment_test</th>\n",
       "      <th>visid</th>\n",
       "      <th>visit_num</th>\n",
       "      <th>visit_ux_type</th>\n",
       "      <th>visit_date</th>\n",
       "      <th>visit_hour</th>\n",
       "      <th>visit_geo_country</th>\n",
       "      <th>...</th>\n",
       "      <th>past28d_page_interactions_per_view</th>\n",
       "      <th>past28d_views_section_max</th>\n",
       "      <th>past28d_views_property_max</th>\n",
       "      <th>past28d_visits_ref_max</th>\n",
       "      <th>past28d_visits_camp_max</th>\n",
       "      <th>past28d_views_section_primary</th>\n",
       "      <th>past28d_views_property_primary</th>\n",
       "      <th>past28d_visits_ref_primary</th>\n",
       "      <th>past28d_visits_camp_primary</th>\n",
       "      <th>visit_date_num</th>\n",
       "    </tr>\n",
       "  </thead>\n",
       "  <tbody>\n",
       "    <tr>\n",
       "      <th>0</th>\n",
       "      <td>1</td>\n",
       "      <td>10037871461938082175</td>\n",
       "      <td>1</td>\n",
       "      <td>0</td>\n",
       "      <td>10037871461938082175</td>\n",
       "      <td>2</td>\n",
       "      <td>Desktop Web</td>\n",
       "      <td>2016-08-20 00:00:00 UTC</td>\n",
       "      <td>23</td>\n",
       "      <td>usa</td>\n",
       "      <td>...</td>\n",
       "      <td>0.125000</td>\n",
       "      <td>4.0</td>\n",
       "      <td>7.0</td>\n",
       "      <td>1.0</td>\n",
       "      <td>1.0</td>\n",
       "      <td>LDP</td>\n",
       "      <td>Buy</td>\n",
       "      <td>Search</td>\n",
       "      <td>Other</td>\n",
       "      <td>1</td>\n",
       "    </tr>\n",
       "    <tr>\n",
       "      <th>1</th>\n",
       "      <td>1</td>\n",
       "      <td>10054193884270425556</td>\n",
       "      <td>1</td>\n",
       "      <td>0</td>\n",
       "      <td>10054193884270425556</td>\n",
       "      <td>5</td>\n",
       "      <td>Desktop Web</td>\n",
       "      <td>2016-08-23 00:00:00 UTC</td>\n",
       "      <td>14</td>\n",
       "      <td>usa</td>\n",
       "      <td>...</td>\n",
       "      <td>0.333333</td>\n",
       "      <td>2.0</td>\n",
       "      <td>2.0</td>\n",
       "      <td>1.0</td>\n",
       "      <td>1.0</td>\n",
       "      <td>SRP</td>\n",
       "      <td>Buy</td>\n",
       "      <td>Search</td>\n",
       "      <td>Other</td>\n",
       "      <td>1</td>\n",
       "    </tr>\n",
       "    <tr>\n",
       "      <th>2</th>\n",
       "      <td>1</td>\n",
       "      <td>1015648931363104529</td>\n",
       "      <td>0</td>\n",
       "      <td>1</td>\n",
       "      <td>1015648931363104529</td>\n",
       "      <td>1</td>\n",
       "      <td>Desktop Web</td>\n",
       "      <td>2016-08-26 00:00:00 UTC</td>\n",
       "      <td>12</td>\n",
       "      <td>usa</td>\n",
       "      <td>...</td>\n",
       "      <td>NaN</td>\n",
       "      <td>NaN</td>\n",
       "      <td>NaN</td>\n",
       "      <td>NaN</td>\n",
       "      <td>NaN</td>\n",
       "      <td>NaN</td>\n",
       "      <td>NaN</td>\n",
       "      <td>NaN</td>\n",
       "      <td>NaN</td>\n",
       "      <td>1</td>\n",
       "    </tr>\n",
       "    <tr>\n",
       "      <th>3</th>\n",
       "      <td>1</td>\n",
       "      <td>10159343641416471091</td>\n",
       "      <td>1</td>\n",
       "      <td>0</td>\n",
       "      <td>10159343641416471091</td>\n",
       "      <td>1</td>\n",
       "      <td>Desktop Web</td>\n",
       "      <td>2016-08-20 00:00:00 UTC</td>\n",
       "      <td>10</td>\n",
       "      <td>usa</td>\n",
       "      <td>...</td>\n",
       "      <td>NaN</td>\n",
       "      <td>NaN</td>\n",
       "      <td>NaN</td>\n",
       "      <td>NaN</td>\n",
       "      <td>NaN</td>\n",
       "      <td>NaN</td>\n",
       "      <td>NaN</td>\n",
       "      <td>NaN</td>\n",
       "      <td>NaN</td>\n",
       "      <td>1</td>\n",
       "    </tr>\n",
       "    <tr>\n",
       "      <th>4</th>\n",
       "      <td>1</td>\n",
       "      <td>10207343532564741988</td>\n",
       "      <td>0</td>\n",
       "      <td>1</td>\n",
       "      <td>10207343532564741988</td>\n",
       "      <td>5</td>\n",
       "      <td>Desktop Web</td>\n",
       "      <td>2016-08-28 00:00:00 UTC</td>\n",
       "      <td>11</td>\n",
       "      <td>usa</td>\n",
       "      <td>...</td>\n",
       "      <td>NaN</td>\n",
       "      <td>NaN</td>\n",
       "      <td>NaN</td>\n",
       "      <td>NaN</td>\n",
       "      <td>NaN</td>\n",
       "      <td>NaN</td>\n",
       "      <td>NaN</td>\n",
       "      <td>NaN</td>\n",
       "      <td>NaN</td>\n",
       "      <td>1</td>\n",
       "    </tr>\n",
       "  </tbody>\n",
       "</table>\n",
       "<p>5 rows × 194 columns</p>\n",
       "</div>"
      ],
      "text/plain": [
       "   first_visit_num      experiment_visid  experiment_control  experiment_test  \\\n",
       "0                1  10037871461938082175                   1                0   \n",
       "1                1  10054193884270425556                   1                0   \n",
       "2                1   1015648931363104529                   0                1   \n",
       "3                1  10159343641416471091                   1                0   \n",
       "4                1  10207343532564741988                   0                1   \n",
       "\n",
       "                  visid  visit_num visit_ux_type               visit_date  \\\n",
       "0  10037871461938082175          2   Desktop Web  2016-08-20 00:00:00 UTC   \n",
       "1  10054193884270425556          5   Desktop Web  2016-08-23 00:00:00 UTC   \n",
       "2   1015648931363104529          1   Desktop Web  2016-08-26 00:00:00 UTC   \n",
       "3  10159343641416471091          1   Desktop Web  2016-08-20 00:00:00 UTC   \n",
       "4  10207343532564741988          5   Desktop Web  2016-08-28 00:00:00 UTC   \n",
       "\n",
       "   visit_hour visit_geo_country       ...        \\\n",
       "0          23               usa       ...         \n",
       "1          14               usa       ...         \n",
       "2          12               usa       ...         \n",
       "3          10               usa       ...         \n",
       "4          11               usa       ...         \n",
       "\n",
       "  past28d_page_interactions_per_view past28d_views_section_max  \\\n",
       "0                           0.125000                       4.0   \n",
       "1                           0.333333                       2.0   \n",
       "2                                NaN                       NaN   \n",
       "3                                NaN                       NaN   \n",
       "4                                NaN                       NaN   \n",
       "\n",
       "  past28d_views_property_max past28d_visits_ref_max past28d_visits_camp_max  \\\n",
       "0                        7.0                    1.0                     1.0   \n",
       "1                        2.0                    1.0                     1.0   \n",
       "2                        NaN                    NaN                     NaN   \n",
       "3                        NaN                    NaN                     NaN   \n",
       "4                        NaN                    NaN                     NaN   \n",
       "\n",
       "   past28d_views_section_primary  past28d_views_property_primary  \\\n",
       "0                            LDP                             Buy   \n",
       "1                            SRP                             Buy   \n",
       "2                            NaN                             NaN   \n",
       "3                            NaN                             NaN   \n",
       "4                            NaN                             NaN   \n",
       "\n",
       "   past28d_visits_ref_primary  past28d_visits_camp_primary  visit_date_num  \n",
       "0                      Search                        Other               1  \n",
       "1                      Search                        Other               1  \n",
       "2                         NaN                          NaN               1  \n",
       "3                         NaN                          NaN               1  \n",
       "4                         NaN                          NaN               1  \n",
       "\n",
       "[5 rows x 194 columns]"
      ]
     },
     "execution_count": 4,
     "metadata": {},
     "output_type": "execute_result"
    }
   ],
   "source": [
    "df_raw.head()"
   ]
  },
  {
   "cell_type": "code",
   "execution_count": 5,
   "metadata": {
    "collapsed": false
   },
   "outputs": [],
   "source": [
    "#Desktop only\n",
    "df_raw = df_raw[df_raw.visit_ux_type==\"Desktop Web\"]"
   ]
  },
  {
   "cell_type": "code",
   "execution_count": 16,
   "metadata": {
    "collapsed": false
   },
   "outputs": [
    {
     "data": {
      "text/plain": [
       "(1090555, 194)"
      ]
     },
     "execution_count": 16,
     "metadata": {},
     "output_type": "execute_result"
    }
   ],
   "source": [
    "df_raw.shape"
   ]
  },
  {
   "cell_type": "markdown",
   "metadata": {},
   "source": [
    "### Select Relavant Features"
   ]
  },
  {
   "cell_type": "code",
   "execution_count": 6,
   "metadata": {
    "collapsed": true
   },
   "outputs": [],
   "source": [
    "# seller = ['visit_nfs_recentlysold_lead', 'current_day_nfs_recentlysold_lead', 'past28d_nfs_recentlysold_lead', \n",
    "#           'past7d_nfs_recentlysold_lead','visit_seller_lead', 'current_day_seller_lead', 'past28d_seller_lead', 'past7d_seller_lead',\n",
    "#             'visit_nfs_offmarket_lead', 'current_day_nfs_offmarket_lead', \n",
    "#             'past28d_nfs_offmarket_lead', 'past7d_nfs_offmarket_lead', \n",
    "#             'planning_to_sell', 'registered_seller', 'new_survey_seller', ]"
   ]
  },
  {
   "cell_type": "code",
   "execution_count": 17,
   "metadata": {
    "collapsed": true
   },
   "outputs": [],
   "source": [
    "identifiers = ['experiment_control', 'experiment_test', 'visid',]"
   ]
  },
  {
   "cell_type": "code",
   "execution_count": 18,
   "metadata": {
    "collapsed": true
   },
   "outputs": [],
   "source": [
    "buyer_leads = ['current_day_lead_buy', \n",
    "#          'visit_lead_buy', \n",
    "#          'past28d_lead_buy', \n",
    "#          'past7d_lead_buy'\n",
    "        ]"
   ]
  },
  {
   "cell_type": "code",
   "execution_count": 19,
   "metadata": {
    "collapsed": true
   },
   "outputs": [],
   "source": [
    "secondary_features = ['visit_geo_country', 'visit_geo_region', 'visit_campaign_subtype',\n",
    "                        'past7d_visits_geo_usa', \n",
    "                        'past28d_views_pct_section_home', 'past28d_views_pct_section_srp', \n",
    "                        'past28d_views_pct_section_ldp', 'past28d_views_pct_section_news', \n",
    "                        'past28d_views_pct_section_acct', 'past28d_views_pct_property_sold', \n",
    "                        'past28d_views_pct_property_buy', 'past28d_views_pct_property_rent', \n",
    "                        'past28d_views_pct_property_sell', 'past28d_visits_pct_geo_usa', 'past28d_visits_pct_ref_direct', \n",
    "                        'past28d_visits_pct_ref_search', 'past28d_visits_pct_ref_internal', \n",
    "                        'past28d_visits_pct_ref_social', 'past28d_visits_pct_ref_other', \n",
    "                        'past28d_visits_pct_camp_paid_search', 'past28d_visits_pct_camp_email', \n",
    "                        'past28d_visits_pct_camp_syndication', 'past28d_visits_pct_camp_display', \n",
    "                        'past28d_visits_pct_camp_affiliate', 'past28d_visits_pct_camp_social', \n",
    "                        'past28d_visits_pct_camp_other', 'past28d_visits_geo_usa', \n",
    "                      \n",
    "                        'ldp_sale_views', 'ldp_rent_views', 'ldp_unknown_views', 'ldp_sale_price_count', 'ldp_rent_price_count', 'geo_count', \n",
    "                        'ldp_sale_price_mean', 'ldp_rent_price_mean', 'ldp_sale_price_median', 'ldp_sale_price_sd', 'ldp_sale_price_cv', \n",
    "                        'ldp_rent_price_sd', 'ldp_rent_price_cv', 'latitude_mean', 'longitude_mean', 'geo_distance_to_mean_avg', \n",
    "                        'zip_med_income_median', 'zip_med_age_median', 'ldp_sale_price_zip_mean_abs_dev_mean', \n",
    "                        'ldp_sale_price_zip_zscore_mean', 'distinct_zips', 'distinct_states',\n",
    "                      \n",
    "                        'past7d_ldp_rent_price_count', 'past7d_ldp_sale_price_mean', 'past7d_ldp_rent_price_mean', \n",
    "                        'past7d_ldp_sale_price_median', 'past7d_ldp_rent_price_median', 'past7d_ldp_sale_price_sd', 'past7d_zip_med_age_median', \n",
    "                        'past7d_ldp_sale_price_cv', 'past7d_ldp_rent_price_sd', 'past7d_ldp_rent_price_cv', 'past7d_latitude_mean', \n",
    "                        'past7d_longitude_mean', 'past7d_zip_med_income_median', 'past7d_ldp_sale_price_zip_mean_abs_dev_mean', 'past7d_ldp_sale_price_zip_zscore_mean',\n",
    "\n",
    "                        'past28d_ldp_sale_price_mean', 'past28d_ldp_rent_price_mean', 'past28d_ldp_sale_price_median',\n",
    "                        'past28d_ldp_rent_price_median', 'past28d_ldp_sale_price_sd', 'past28d_ldp_sale_price_cv', \n",
    "                        'past28d_ldp_rent_price_sd', 'past28d_ldp_rent_price_cv', 'past28d_latitude_mean', \n",
    "                        'past28d_longitude_mean',  'past28d_zip_med_income_median', \n",
    "                        'past28d_zip_med_age_median',\n",
    "                        'past28d_ldp_sale_price_zip_mean_abs_dev_mean', 'past28d_ldp_sale_price_zip_zscore_mean', \n",
    "                        \n",
    "                        'visit_date_num', 'visit_date', \n",
    "                        'visit_views', 'visit_views_ldp_for_sale', 'visit_views_ldp_rent', \n",
    "                     ]"
   ]
  },
  {
   "cell_type": "code",
   "execution_count": 20,
   "metadata": {
    "collapsed": true
   },
   "outputs": [],
   "source": [
    "primary_features = ['visit_num', 'visit_hour', 'visit_referrer_type', \n",
    "                    'visit_campaign_type', 'visit_landing_page_type', \n",
    "                                        \n",
    "                    'past28d_visits_registered', \n",
    "                    \n",
    "                    'past7d_views', 'past7d_page_interactions', 'past7d_visits', 'past7d_active_days', \n",
    "                    'past7d_views_section_home', 'past7d_views_section_srp', 'past7d_views_section_ldp', \n",
    "                    'past7d_views_section_news', 'past7d_views_section_acct', 'past7d_views_property_sold', \n",
    "                    'past7d_views_property_buy', 'past7d_views_property_rent', 'past7d_views_property_sell', \n",
    "                    'past7d_visits_ref_direct', 'past7d_visits_ref_search', 'past7d_visits_ref_internal', \n",
    "                    'past7d_visits_ref_social', 'past7d_visits_ref_other', 'past7d_visits_camp_paid_search', \n",
    "                    'past7d_visits_camp_email', 'past7d_visits_camp_syndication', 'past7d_visits_camp_display', \n",
    "                    'past7d_visits_camp_affiliate', 'past7d_visits_camp_social', 'past7d_visits_camp_other', \n",
    "                    \n",
    "                    'past28d_views', 'past28d_page_interactions', 'past28d_visits', 'past28d_active_days', \n",
    "                    'past28d_views_section_home', 'past28d_views_section_srp', 'past28d_views_section_ldp', \n",
    "                    'past28d_views_section_news', 'past28d_views_section_acct', 'past28d_views_property_sold', \n",
    "                    'past28d_views_property_buy', 'past28d_views_property_rent', 'past28d_views_property_sell', \n",
    "                    'past28d_visits_ref_direct', 'past28d_visits_ref_search', \n",
    "                    'past28d_visits_ref_internal', 'past28d_visits_ref_social', 'past28d_visits_ref_other', \n",
    "                    'past28d_visits_camp_paid_search', 'past28d_visits_camp_email', 'past28d_visits_camp_syndication', \n",
    "                    'past28d_visits_camp_display', 'past28d_visits_camp_affiliate', \n",
    "                    'past28d_visits_camp_social', 'past28d_visits_camp_other',  \n",
    "                    \n",
    "                    'past7d_ldp_sale_views', 'past7d_ldp_rent_views', 'past7d_ldp_unknown_views', \n",
    "                    'past7d_ldp_sale_price_count', 'past7d_distinct_zips', 'past7d_distinct_states', \n",
    "                    \n",
    "                    'past28d_ldp_sale_views', 'past28d_ldp_rent_views', 'past28d_ldp_unknown_views', \n",
    "                    'past28d_ldp_sale_price_count', 'past28d_ldp_rent_price_count', \n",
    "                    'past28d_distinct_zips', 'past28d_distinct_states', \n",
    "                                                            \n",
    "                    'past7d28d_views_ratio', 'past7d_visits_per_active_day', \n",
    "                    'past7d_views_per_active_day', 'past7d_views_per_visit', 'past7d_page_interactions_per_view', \n",
    "                    \n",
    "                    'past28d_visits_per_active_day', 'past28d_views_per_active_day', 'past28d_views_per_visit', \n",
    "                    'past28d_page_interactions_per_view', 'past28d_views_section_max', 'past28d_views_property_max', \n",
    "                    'past28d_visits_ref_max', 'past28d_visits_camp_max', 'past28d_views_section_primary', \n",
    "                    'past28d_views_property_primary', 'past28d_visits_ref_primary', 'past28d_visits_camp_primary', \n",
    "                   ]"
   ]
  },
  {
   "cell_type": "code",
   "execution_count": 21,
   "metadata": {
    "collapsed": true
   },
   "outputs": [],
   "source": [
    "#Only use primary features\n",
    "df_primary = df_raw[primary_features]"
   ]
  },
  {
   "cell_type": "code",
   "execution_count": 22,
   "metadata": {
    "collapsed": false
   },
   "outputs": [],
   "source": [
    "#Seperate Numeric and Categorical features\n",
    "primary_numeric_columns = df_primary.select_dtypes(include=[np.number]).columns.values\n",
    "primary_categorical_columns = list(set(df_primary.columns.values) - set(primary_numeric_columns))"
   ]
  },
  {
   "cell_type": "markdown",
   "metadata": {},
   "source": [
    "### Dummify Categorical Features"
   ]
  },
  {
   "cell_type": "code",
   "execution_count": 23,
   "metadata": {
    "collapsed": false
   },
   "outputs": [
    {
     "data": {
      "text/plain": [
       "['past28d_visits_camp_primary',\n",
       " 'visit_campaign_type',\n",
       " 'visit_referrer_type',\n",
       " 'past28d_visits_ref_primary',\n",
       " 'visit_landing_page_type',\n",
       " 'past28d_views_section_primary',\n",
       " 'past28d_views_property_primary']"
      ]
     },
     "execution_count": 23,
     "metadata": {},
     "output_type": "execute_result"
    }
   ],
   "source": [
    "primary_categorical_columns"
   ]
  },
  {
   "cell_type": "code",
   "execution_count": 24,
   "metadata": {
    "collapsed": true
   },
   "outputs": [],
   "source": [
    "#Other numeric features that should be considered as categorical variables\n",
    "other_categorical_columns = ['visit_hour']"
   ]
  },
  {
   "cell_type": "code",
   "execution_count": 25,
   "metadata": {
    "collapsed": false
   },
   "outputs": [],
   "source": [
    "#Dummify categorical variables\n",
    "for column in primary_categorical_columns+other_categorical_columns:\n",
    "    dummies = pd.get_dummies(df_primary[column], prefix = column)\n",
    "    #Add dummy columns to matrix and remove original column from matrix\n",
    "    df_primary[dummies.columns] = dummies\n",
    "    df_primary = df_primary.drop(column,1)"
   ]
  },
  {
   "cell_type": "code",
   "execution_count": 26,
   "metadata": {
    "collapsed": false
   },
   "outputs": [],
   "source": [
    "dummified_categorical_features = list(set(df_primary.columns.values) - set(primary_numeric_columns))\n",
    "final_numeric_features = list(set(df_primary.columns.values) - set(dummified_categorical_features))"
   ]
  },
  {
   "cell_type": "markdown",
   "metadata": {
    "collapsed": true
   },
   "source": [
    "### Handle Missing Numeric Values"
   ]
  },
  {
   "cell_type": "code",
   "execution_count": 27,
   "metadata": {
    "collapsed": false
   },
   "outputs": [],
   "source": [
    "#Change all numeric missing values to zeroes (this is in fact true for this dataset - nan represent 0's)\n",
    "df_primary = df_primary.fillna(0)"
   ]
  },
  {
   "cell_type": "code",
   "execution_count": 28,
   "metadata": {
    "collapsed": false
   },
   "outputs": [
    {
     "data": {
      "text/plain": [
       "0"
      ]
     },
     "execution_count": 28,
     "metadata": {},
     "output_type": "execute_result"
    }
   ],
   "source": [
    "#Check if there are any null values remaining in the data\n",
    "pd.isnull(df_primary).sum().sum()"
   ]
  },
  {
   "cell_type": "code",
   "execution_count": 29,
   "metadata": {
    "collapsed": false
   },
   "outputs": [
    {
     "data": {
      "text/html": [
       "<div>\n",
       "<table border=\"1\" class=\"dataframe\">\n",
       "  <thead>\n",
       "    <tr style=\"text-align: right;\">\n",
       "      <th></th>\n",
       "      <th>visit_num</th>\n",
       "      <th>past28d_visits_registered</th>\n",
       "      <th>past7d_views</th>\n",
       "      <th>past7d_page_interactions</th>\n",
       "      <th>past7d_visits</th>\n",
       "      <th>past7d_active_days</th>\n",
       "      <th>past7d_views_section_home</th>\n",
       "      <th>past7d_views_section_srp</th>\n",
       "      <th>past7d_views_section_ldp</th>\n",
       "      <th>past7d_views_section_news</th>\n",
       "      <th>...</th>\n",
       "      <th>visit_hour_14</th>\n",
       "      <th>visit_hour_15</th>\n",
       "      <th>visit_hour_16</th>\n",
       "      <th>visit_hour_17</th>\n",
       "      <th>visit_hour_18</th>\n",
       "      <th>visit_hour_19</th>\n",
       "      <th>visit_hour_20</th>\n",
       "      <th>visit_hour_21</th>\n",
       "      <th>visit_hour_22</th>\n",
       "      <th>visit_hour_23</th>\n",
       "    </tr>\n",
       "  </thead>\n",
       "  <tbody>\n",
       "    <tr>\n",
       "      <th>0</th>\n",
       "      <td>2</td>\n",
       "      <td>1.0</td>\n",
       "      <td>0.0</td>\n",
       "      <td>0.0</td>\n",
       "      <td>0.0</td>\n",
       "      <td>0</td>\n",
       "      <td>0.0</td>\n",
       "      <td>0.0</td>\n",
       "      <td>0.0</td>\n",
       "      <td>0.0</td>\n",
       "      <td>...</td>\n",
       "      <td>0.0</td>\n",
       "      <td>0.0</td>\n",
       "      <td>0.0</td>\n",
       "      <td>0.0</td>\n",
       "      <td>0.0</td>\n",
       "      <td>0.0</td>\n",
       "      <td>0.0</td>\n",
       "      <td>0.0</td>\n",
       "      <td>0.0</td>\n",
       "      <td>1.0</td>\n",
       "    </tr>\n",
       "    <tr>\n",
       "      <th>1</th>\n",
       "      <td>5</td>\n",
       "      <td>0.0</td>\n",
       "      <td>0.0</td>\n",
       "      <td>0.0</td>\n",
       "      <td>0.0</td>\n",
       "      <td>0</td>\n",
       "      <td>0.0</td>\n",
       "      <td>0.0</td>\n",
       "      <td>0.0</td>\n",
       "      <td>0.0</td>\n",
       "      <td>...</td>\n",
       "      <td>1.0</td>\n",
       "      <td>0.0</td>\n",
       "      <td>0.0</td>\n",
       "      <td>0.0</td>\n",
       "      <td>0.0</td>\n",
       "      <td>0.0</td>\n",
       "      <td>0.0</td>\n",
       "      <td>0.0</td>\n",
       "      <td>0.0</td>\n",
       "      <td>0.0</td>\n",
       "    </tr>\n",
       "    <tr>\n",
       "      <th>2</th>\n",
       "      <td>1</td>\n",
       "      <td>0.0</td>\n",
       "      <td>0.0</td>\n",
       "      <td>0.0</td>\n",
       "      <td>0.0</td>\n",
       "      <td>0</td>\n",
       "      <td>0.0</td>\n",
       "      <td>0.0</td>\n",
       "      <td>0.0</td>\n",
       "      <td>0.0</td>\n",
       "      <td>...</td>\n",
       "      <td>0.0</td>\n",
       "      <td>0.0</td>\n",
       "      <td>0.0</td>\n",
       "      <td>0.0</td>\n",
       "      <td>0.0</td>\n",
       "      <td>0.0</td>\n",
       "      <td>0.0</td>\n",
       "      <td>0.0</td>\n",
       "      <td>0.0</td>\n",
       "      <td>0.0</td>\n",
       "    </tr>\n",
       "    <tr>\n",
       "      <th>3</th>\n",
       "      <td>1</td>\n",
       "      <td>0.0</td>\n",
       "      <td>0.0</td>\n",
       "      <td>0.0</td>\n",
       "      <td>0.0</td>\n",
       "      <td>0</td>\n",
       "      <td>0.0</td>\n",
       "      <td>0.0</td>\n",
       "      <td>0.0</td>\n",
       "      <td>0.0</td>\n",
       "      <td>...</td>\n",
       "      <td>0.0</td>\n",
       "      <td>0.0</td>\n",
       "      <td>0.0</td>\n",
       "      <td>0.0</td>\n",
       "      <td>0.0</td>\n",
       "      <td>0.0</td>\n",
       "      <td>0.0</td>\n",
       "      <td>0.0</td>\n",
       "      <td>0.0</td>\n",
       "      <td>0.0</td>\n",
       "    </tr>\n",
       "    <tr>\n",
       "      <th>4</th>\n",
       "      <td>5</td>\n",
       "      <td>0.0</td>\n",
       "      <td>0.0</td>\n",
       "      <td>0.0</td>\n",
       "      <td>0.0</td>\n",
       "      <td>0</td>\n",
       "      <td>0.0</td>\n",
       "      <td>0.0</td>\n",
       "      <td>0.0</td>\n",
       "      <td>0.0</td>\n",
       "      <td>...</td>\n",
       "      <td>0.0</td>\n",
       "      <td>0.0</td>\n",
       "      <td>0.0</td>\n",
       "      <td>0.0</td>\n",
       "      <td>0.0</td>\n",
       "      <td>0.0</td>\n",
       "      <td>0.0</td>\n",
       "      <td>0.0</td>\n",
       "      <td>0.0</td>\n",
       "      <td>0.0</td>\n",
       "    </tr>\n",
       "  </tbody>\n",
       "</table>\n",
       "<p>5 rows × 143 columns</p>\n",
       "</div>"
      ],
      "text/plain": [
       "   visit_num  past28d_visits_registered  past7d_views  \\\n",
       "0          2                        1.0           0.0   \n",
       "1          5                        0.0           0.0   \n",
       "2          1                        0.0           0.0   \n",
       "3          1                        0.0           0.0   \n",
       "4          5                        0.0           0.0   \n",
       "\n",
       "   past7d_page_interactions  past7d_visits  past7d_active_days  \\\n",
       "0                       0.0            0.0                   0   \n",
       "1                       0.0            0.0                   0   \n",
       "2                       0.0            0.0                   0   \n",
       "3                       0.0            0.0                   0   \n",
       "4                       0.0            0.0                   0   \n",
       "\n",
       "   past7d_views_section_home  past7d_views_section_srp  \\\n",
       "0                        0.0                       0.0   \n",
       "1                        0.0                       0.0   \n",
       "2                        0.0                       0.0   \n",
       "3                        0.0                       0.0   \n",
       "4                        0.0                       0.0   \n",
       "\n",
       "   past7d_views_section_ldp  past7d_views_section_news      ...        \\\n",
       "0                       0.0                        0.0      ...         \n",
       "1                       0.0                        0.0      ...         \n",
       "2                       0.0                        0.0      ...         \n",
       "3                       0.0                        0.0      ...         \n",
       "4                       0.0                        0.0      ...         \n",
       "\n",
       "   visit_hour_14  visit_hour_15  visit_hour_16  visit_hour_17  visit_hour_18  \\\n",
       "0            0.0            0.0            0.0            0.0            0.0   \n",
       "1            1.0            0.0            0.0            0.0            0.0   \n",
       "2            0.0            0.0            0.0            0.0            0.0   \n",
       "3            0.0            0.0            0.0            0.0            0.0   \n",
       "4            0.0            0.0            0.0            0.0            0.0   \n",
       "\n",
       "   visit_hour_19  visit_hour_20  visit_hour_21  visit_hour_22  visit_hour_23  \n",
       "0            0.0            0.0            0.0            0.0            1.0  \n",
       "1            0.0            0.0            0.0            0.0            0.0  \n",
       "2            0.0            0.0            0.0            0.0            0.0  \n",
       "3            0.0            0.0            0.0            0.0            0.0  \n",
       "4            0.0            0.0            0.0            0.0            0.0  \n",
       "\n",
       "[5 rows x 143 columns]"
      ]
     },
     "execution_count": 29,
     "metadata": {},
     "output_type": "execute_result"
    }
   ],
   "source": [
    "df_primary.head()"
   ]
  },
  {
   "cell_type": "markdown",
   "metadata": {},
   "source": [
    "### Standardize Numeric Features"
   ]
  },
  {
   "cell_type": "code",
   "execution_count": null,
   "metadata": {
    "collapsed": true
   },
   "outputs": [],
   "source": []
  },
  {
   "cell_type": "markdown",
   "metadata": {},
   "source": [
    "### Outliers Function"
   ]
  },
  {
   "cell_type": "code",
   "execution_count": 30,
   "metadata": {
    "collapsed": true
   },
   "outputs": [],
   "source": [
    "#Not looking at outliers in X, only look for outliers in Y (i.e. # of leads submitted)\n",
    "def is_outlier_mean(data, m = 1000):\n",
    "    return abs(data - np.mean(data)) > m * np.std(data)"
   ]
  },
  {
   "cell_type": "code",
   "execution_count": null,
   "metadata": {
    "collapsed": true
   },
   "outputs": [],
   "source": []
  },
  {
   "cell_type": "markdown",
   "metadata": {},
   "source": [
    "### Consolidate Dataframe by Adding Back Identifiers and Y Labels for Analysis"
   ]
  },
  {
   "cell_type": "code",
   "execution_count": 31,
   "metadata": {
    "collapsed": false
   },
   "outputs": [],
   "source": [
    "df = pd.concat([df_raw[identifiers], df_raw[buyer_leads], df_primary], axis=1)"
   ]
  },
  {
   "cell_type": "markdown",
   "metadata": {},
   "source": [
    "### Eliminate Outliers in Lead Submissions (those who submitted more than 50 leads a day)"
   ]
  },
  {
   "cell_type": "code",
   "execution_count": 32,
   "metadata": {
    "collapsed": false
   },
   "outputs": [],
   "source": [
    "df = df[df.current_day_lead_buy < 50]"
   ]
  },
  {
   "cell_type": "code",
   "execution_count": 33,
   "metadata": {
    "collapsed": false,
    "scrolled": true
   },
   "outputs": [
    {
     "data": {
      "text/plain": [
       "4"
      ]
     },
     "execution_count": 33,
     "metadata": {},
     "output_type": "execute_result"
    }
   ],
   "source": [
    "(df_raw.current_day_lead_buy >= 50).sum()"
   ]
  },
  {
   "cell_type": "code",
   "execution_count": null,
   "metadata": {
    "collapsed": false
   },
   "outputs": [],
   "source": []
  },
  {
   "cell_type": "markdown",
   "metadata": {},
   "source": [
    "### Lift and Segement Size Function for Every Numeric Feature"
   ]
  },
  {
   "cell_type": "code",
   "execution_count": 34,
   "metadata": {
    "collapsed": false,
    "scrolled": true
   },
   "outputs": [
    {
     "data": {
      "text/plain": [
       "78"
      ]
     },
     "execution_count": 34,
     "metadata": {},
     "output_type": "execute_result"
    }
   ],
   "source": [
    "len(final_numeric_features)"
   ]
  },
  {
   "cell_type": "code",
   "execution_count": 35,
   "metadata": {
    "collapsed": false
   },
   "outputs": [],
   "source": [
    "def print_hist(feature):\n",
    "\n",
    "    fig = plt.figure()\n",
    "    ax1 = fig.add_subplot(111)\n",
    "    # ax2 = ax1.twiny()\n",
    "    \n",
    "    df_excl_outliers = df[~is_outlier_mean(df[feature])]\n",
    "    in_control = (df_excl_outliers.experiment_control == 1)\n",
    "    in_test = ~in_control #alternatively, df.experiment_test == 1\n",
    "    \n",
    "    ax1.set_title(\"Histogram for \" + feature)\n",
    "    ax1.hist(df_excl_outliers[in_control][feature], \n",
    "             bins = len(unique(df_excl_outliers[in_control][feature])), \n",
    "#              range = (0,10), \n",
    "             alpha=0.5,)\n",
    "    ax1.hist(df_excl_outliers[in_test][feature], \n",
    "             bins = len(unique(df_excl_outliers[in_test][feature])), \n",
    "#              range = (0,10), \n",
    "             alpha=0.5,)\n",
    "    ax1.set_xlim((0,10))\n",
    "    \n",
    "    plt.show();"
   ]
  },
  {
   "cell_type": "code",
   "execution_count": 215,
   "metadata": {
    "collapsed": false,
    "scrolled": false
   },
   "outputs": [],
   "source": [
    "# for f in final_numeric_features[:8]:\n",
    "#     print_hist(f)"
   ]
  },
  {
   "cell_type": "code",
   "execution_count": 36,
   "metadata": {
    "collapsed": false,
    "scrolled": false
   },
   "outputs": [],
   "source": [
    "def lift_control_calc(feature, cutoff):\n",
    "    \n",
    "    df_excl_outliers = df[~is_outlier_mean(df[feature])]\n",
    "    group = (df_excl_outliers[feature] >= cutoff)\n",
    "    in_control = (df_excl_outliers.experiment_control == 1)\n",
    "    in_test = ~in_control #alternatively, df.experiment_test == 1\n",
    "    \n",
    "    if (df_excl_outliers[group & in_control].shape[0]>0) and (df_excl_outliers[group & in_test].shape[0]>0):\n",
    "    \n",
    "        conversion_control = df_excl_outliers[group & in_control]['current_day_lead_buy'].sum() / df_excl_outliers[group & in_control].shape[0]\n",
    "        conversion_test = df_excl_outliers[group & in_test]['current_day_lead_buy'].sum() / df_excl_outliers[group & in_test].shape[0]\n",
    "        conversion_from_last_carousel = conversion_test - conversion_control\n",
    "        relative_segment_size = df_excl_outliers[group].shape[0] / df.shape[0]\n",
    "        absolute_segment_size = df_excl_outliers[group].shape[0]\n",
    "\n",
    "        return cutoff, conversion_from_last_carousel, relative_segment_size, absolute_segment_size"
   ]
  },
  {
   "cell_type": "code",
   "execution_count": 48,
   "metadata": {
    "collapsed": false,
    "scrolled": true
   },
   "outputs": [],
   "source": [
    "# for f in final_numeric_features:\n",
    "#     print()\n",
    "#     print(f,\":\")\n",
    "#     print(\"cutoff conversion from last carousel relative seg size\")\n",
    "#     print(\"====== ============================= =================\")\n",
    "#     for percent in [80,90,95]:\n",
    "#         print(lift_control_calc(f, np.percentile(df[f], percent))[:3])"
   ]
  },
  {
   "cell_type": "code",
   "execution_count": null,
   "metadata": {
    "collapsed": true
   },
   "outputs": [],
   "source": []
  },
  {
   "cell_type": "code",
   "execution_count": 37,
   "metadata": {
    "collapsed": false
   },
   "outputs": [
    {
     "data": {
      "text/plain": [
       "0.01066800177158152"
      ]
     },
     "execution_count": 37,
     "metadata": {},
     "output_type": "execute_result"
    }
   ],
   "source": [
    "df['current_day_lead_buy'].sum() / df.shape[0]"
   ]
  },
  {
   "cell_type": "code",
   "execution_count": 38,
   "metadata": {
    "collapsed": false
   },
   "outputs": [
    {
     "data": {
      "text/plain": [
       "0.013103508926215812"
      ]
     },
     "execution_count": 38,
     "metadata": {},
     "output_type": "execute_result"
    }
   ],
   "source": [
    "df[(df['past7d_views_section_ldp'] >= 18) & (df.experiment_control == 1)]['current_day_lead_buy'].sum() / df[(df['past7d_views_section_ldp'] >= 18) & (df.experiment_control == 1)].shape[0]"
   ]
  },
  {
   "cell_type": "code",
   "execution_count": 39,
   "metadata": {
    "collapsed": false
   },
   "outputs": [
    {
     "data": {
      "text/plain": [
       "0.016435369586180873"
      ]
     },
     "execution_count": 39,
     "metadata": {},
     "output_type": "execute_result"
    }
   ],
   "source": [
    "df[(df['past7d_views_section_ldp'] >= 18) & (df.experiment_test == 1)]['current_day_lead_buy'].sum() / df[(df['past7d_views_section_ldp'] >= 18) & (df.experiment_test == 1)]['current_day_lead_buy'].shape[0]"
   ]
  },
  {
   "cell_type": "code",
   "execution_count": null,
   "metadata": {
    "collapsed": true
   },
   "outputs": [],
   "source": []
  },
  {
   "cell_type": "code",
   "execution_count": 31,
   "metadata": {
    "collapsed": true
   },
   "outputs": [],
   "source": [
    "# promising_numeric_features = [\n",
    "#     'past7d_views_section_ldp',\n",
    "#     'past7d_views_section_home',\n",
    "#     'past7d_views',\n",
    "#     'past28d_visits_per_active_day',\n",
    "#     'past7d_ldp_sale_views',\n",
    "#     'past7d_ldp_sale_price_count',\n",
    "#     'past7d_views_per_visit',\n",
    "#     'past7d_visits_ref_direct',\n",
    "#     'past28d_page_interactions',\n",
    "#     'past28d_ldp_sale_views',\n",
    "#     'past7d_page_interactions',\n",
    "#     'past28d_visits_ref_internal',\n",
    "#     'past7d28d_views_ratio',\n",
    "#     'past7d_visits',\n",
    "#     'past28d_distinct_zips',\n",
    "#     'past28d_ldp_rent_price_count',\n",
    "#     'past7d_active_days',\n",
    "#     'past7d_page_interactions_per_view',\n",
    "#     'past7d_views_property_buy',\n",
    "#     'past28d_ldp_sale_price_count',\n",
    "#     'past7d_views_per_active_day',\n",
    "#     'past28d_views_per_active_day',\n",
    "#     'past7d_visits_per_active_day',\n",
    "#     'past28d_views_section_ldp',\n",
    "# ]"
   ]
  },
  {
   "cell_type": "code",
   "execution_count": 49,
   "metadata": {
    "collapsed": false,
    "scrolled": true
   },
   "outputs": [],
   "source": [
    "# for f in promising_numeric_features:\n",
    "#     print()\n",
    "#     print(f,\":\")\n",
    "#     print(\"cutoff conversion from last carousel relative seg size\")\n",
    "#     print(\"====== ============================= =================\")\n",
    "#     for percent in [80,90,95,97]:\n",
    "#         print(lift_control_calc(f, np.percentile(df[f], percent))[:3])"
   ]
  },
  {
   "cell_type": "code",
   "execution_count": 40,
   "metadata": {
    "collapsed": false
   },
   "outputs": [],
   "source": [
    "featcut = {'past28d_active_days': 1,\n",
    " 'past28d_distinct_states': 1,\n",
    " 'past28d_distinct_zips': 1,\n",
    "#  'past28d_ldp_rent_price_count': 1,\n",
    "#  'past28d_ldp_rent_views': 1,\n",
    " 'past28d_ldp_sale_price_count': 1,\n",
    " 'past28d_ldp_sale_views': 1,\n",
    "#  'past28d_ldp_unknown_views': 1,\n",
    " 'past28d_page_interactions': 1,\n",
    "#  'past28d_page_interactions_per_view': 1,\n",
    " 'past28d_views': 1,\n",
    " 'past28d_views_per_active_day': 1,\n",
    " 'past28d_views_per_visit': 1,\n",
    " 'past28d_views_property_buy': 1,\n",
    " 'past28d_views_property_max': 1,\n",
    "#  'past28d_views_property_rent': 1,\n",
    "#  'past28d_views_property_sell': 1,\n",
    "#  'past28d_views_property_sold': 1,\n",
    "#  'past28d_views_section_acct': 1,\n",
    " 'past28d_views_section_home': 1,\n",
    " 'past28d_views_section_ldp': 1,\n",
    " 'past28d_views_section_max': 1,\n",
    "#  'past28d_views_section_news': 1,\n",
    " 'past28d_views_section_srp': 1,\n",
    " 'past28d_visits': 1,\n",
    "#  'past28d_visits_camp_affiliate': 1,\n",
    "#  'past28d_visits_camp_display': 1,\n",
    "#  'past28d_visits_camp_email': 1,\n",
    " 'past28d_visits_camp_max': 1,\n",
    "#  'past28d_visits_camp_other': 1,\n",
    "#  'past28d_visits_camp_paid_search': 1,\n",
    "#  'past28d_visits_camp_social': 1,\n",
    "#  'past28d_visits_camp_syndication': 1,\n",
    " 'past28d_visits_per_active_day': 1,\n",
    " 'past28d_visits_ref_direct': 1,\n",
    "#  'past28d_visits_ref_internal': 1,\n",
    " 'past28d_visits_ref_max': 1,\n",
    "#  'past28d_visits_ref_other': 1,\n",
    "#  'past28d_visits_ref_search': 1,\n",
    "#  'past28d_visits_ref_social': 1,\n",
    " 'past28d_visits_registered': 1,\n",
    " 'past7d28d_views_ratio': 0.01,\n",
    " 'past7d_active_days': 1,\n",
    " 'past7d_distinct_states': 1,\n",
    " 'past7d_distinct_zips': 1,\n",
    "#  'past7d_ldp_rent_views': 1,\n",
    " 'past7d_ldp_sale_price_count': 1,\n",
    " 'past7d_ldp_sale_views': 1,\n",
    "#  'past7d_ldp_unknown_views': 1,\n",
    " 'past7d_page_interactions': 1,\n",
    "#  'past7d_page_interactions_per_view': 1,\n",
    " 'past7d_views': 1,\n",
    " 'past7d_views_per_active_day': 1,\n",
    " 'past7d_views_per_visit': 1,\n",
    " 'past7d_views_property_buy': 1,\n",
    "#  'past7d_views_property_rent': 1,\n",
    "#  'past7d_views_property_sell': 1,\n",
    "#  'past7d_views_property_sold': 1,\n",
    "#  'past7d_views_section_acct': 1,\n",
    " 'past7d_views_section_home': 1,\n",
    " 'past7d_views_section_ldp': 1,\n",
    "#  'past7d_views_section_news': 1,\n",
    " 'past7d_views_section_srp': 1,\n",
    " 'past7d_visits': 1,\n",
    "#  'past7d_visits_camp_affiliate': 1,\n",
    "#  'past7d_visits_camp_display': 1,\n",
    "#  'past7d_visits_camp_email': 1,\n",
    " 'past7d_visits_camp_other': 1,\n",
    "#  'past7d_visits_camp_paid_search': 1,\n",
    "#  'past7d_visits_camp_social': 1,\n",
    "#  'past7d_visits_camp_syndication': 1,\n",
    " 'past7d_visits_per_active_day': 1,\n",
    " 'past7d_visits_ref_direct': 1,\n",
    "#  'past7d_visits_ref_internal': 1,\n",
    "#  'past7d_visits_ref_other': 1,\n",
    "#  'past7d_visits_ref_search': 1,\n",
    "#  'past7d_visits_ref_social': 1,\n",
    " 'visit_num': 5\n",
    "}"
   ]
  },
  {
   "cell_type": "code",
   "execution_count": 41,
   "metadata": {
    "collapsed": false
   },
   "outputs": [],
   "source": [
    "def lift_control_calc_2(feature, cutoff):\n",
    "    \n",
    "    df_excl_outliers = df[~is_outlier_mean(df[feature])]\n",
    "    group = (df_excl_outliers[feature] >= cutoff)\n",
    "    in_control = (df_excl_outliers.experiment_control == 1)\n",
    "    in_test = ~in_control #alternatively, df.experiment_test == 1\n",
    "    \n",
    "    if (df_excl_outliers[group & in_control].shape[0]>0) and (df_excl_outliers[group & in_test].shape[0]>0):\n",
    "    \n",
    "        conversion_control = df_excl_outliers[group & in_control]['current_day_lead_buy'].sum() / df_excl_outliers[group & in_control].shape[0]\n",
    "        conversion_test = df_excl_outliers[group & in_test]['current_day_lead_buy'].sum() / df_excl_outliers[group & in_test].shape[0]\n",
    "        conversion_from_last_carousel = conversion_test - conversion_control\n",
    "        relative_segment_size = df_excl_outliers[group].shape[0] / df.shape[0]\n",
    "        absolute_segment_size = df_excl_outliers[group].shape[0]\n",
    "\n",
    "        return feature, cutoff, conversion_from_last_carousel, relative_segment_size"
   ]
  },
  {
   "cell_type": "code",
   "execution_count": 42,
   "metadata": {
    "collapsed": false,
    "scrolled": false
   },
   "outputs": [],
   "source": [
    "final_cut = [lift_control_calc_2(feature, cutoff) for feature, cutoff in featcut.items()]"
   ]
  },
  {
   "cell_type": "code",
   "execution_count": 43,
   "metadata": {
    "collapsed": false
   },
   "outputs": [],
   "source": [
    "final_features = filter(lambda items: items[3] > 0.35, final_cut)"
   ]
  },
  {
   "cell_type": "code",
   "execution_count": 44,
   "metadata": {
    "collapsed": false
   },
   "outputs": [
    {
     "data": {
      "text/plain": [
       "[('past28d_visits', 1, 0.0013150688200855819, 0.37431261811689687),\n",
       " ('past28d_active_days', 1, 0.0013150688200855819, 0.37431261811689687),\n",
       " ('past28d_visits_camp_max', 1, 0.0013150688200855819, 0.37431261811689687),\n",
       " ('past28d_visits_ref_max', 1, 0.0013150688200855819, 0.37431261811689687),\n",
       " ('past28d_views_section_ldp', 1, 0.0013368591862769705, 0.35349103343172394),\n",
       " ('past28d_visits_per_active_day',\n",
       "  1,\n",
       "  0.0013151805275780776,\n",
       "  0.37430895024625166),\n",
       " ('past28d_views_per_visit', 1, 0.0013752709094803969, 0.3739980982090705),\n",
       " ('past28d_views', 1, 0.0013153645214271908, 0.3742832751517352),\n",
       " ('past28d_views_section_max', 1, 0.0012861094347592118, 0.37099319518298546),\n",
       " ('past28d_views_per_active_day',\n",
       "  1,\n",
       "  0.0013157085147152744,\n",
       "  0.37423926070399277)]"
      ]
     },
     "execution_count": 44,
     "metadata": {},
     "output_type": "execute_result"
    }
   ],
   "source": [
    "final_features"
   ]
  },
  {
   "cell_type": "markdown",
   "metadata": {},
   "source": [
    "###### "
   ]
  },
  {
   "cell_type": "code",
   "execution_count": 45,
   "metadata": {
    "collapsed": false
   },
   "outputs": [
    {
     "name": "stdout",
     "output_type": "stream",
     "text": [
      "0.00131506882009 0.374312618117\n"
     ]
    }
   ],
   "source": [
    "group = (df.past28d_visits >= 1) |\\\n",
    "        (df.past28d_visits_ref_primary_Direct >= 1)\n",
    "#         (df.past28d_active_days >= 1) |\\\n",
    "#         (df.past28d_visits_camp_max >= 1) |\\\n",
    "#         (df.past28d_visits_ref_max >= 1) |\\\n",
    "#         (df.past28d_views_section_ldp >= 1) |\\\n",
    "#         (df.past28d_visits_per_active_day >= 1) |\\\n",
    "#         (df.past28d_views_per_visit >= 1) |\\\n",
    "#         (df.past28d_views >= 1) |\\\n",
    "#         (df.past28d_views_section_max >= 1) |\\\n",
    "#         (df.past28d_views_per_active_day >= 1) \n",
    "\n",
    "\n",
    "df = df[~is_outlier_mean(df[feature])]\n",
    "in_control = (df.experiment_control == 1)\n",
    "in_test = ~in_control \n",
    "\n",
    "conversion_control = df[group & in_control]['current_day_lead_buy'].sum() / df[group & in_control].shape[0]\n",
    "conversion_test = df[group & in_test]['current_day_lead_buy'].sum() / df[group & in_test].shape[0]\n",
    "conversion_from_last_carousel = conversion_test - conversion_control\n",
    "relative_segment_size = df[group].shape[0] / df.shape[0]\n",
    "absolute_segment_size = df[group].shape[0]\n",
    "\n",
    "print(conversion_from_last_carousel, relative_segment_size)"
   ]
  },
  {
   "cell_type": "code",
   "execution_count": 46,
   "metadata": {
    "collapsed": false,
    "scrolled": false
   },
   "outputs": [
    {
     "data": {
      "text/plain": [
       "('past28d_visits', 1, 0.0013150688200855819, 0.37431261811689687)"
      ]
     },
     "execution_count": 46,
     "metadata": {},
     "output_type": "execute_result"
    }
   ],
   "source": [
    "lift_control_calc_2('past28d_visits', 1)"
   ]
  },
  {
   "cell_type": "code",
   "execution_count": null,
   "metadata": {
    "collapsed": true
   },
   "outputs": [],
   "source": []
  },
  {
   "cell_type": "code",
   "execution_count": 47,
   "metadata": {
    "collapsed": false
   },
   "outputs": [],
   "source": [
    "def lift_control_categorical(categorical_feature):\n",
    "    group = (df[categorical_feature] == 1)\n",
    "    in_control = (df.experiment_control == 1)\n",
    "    in_test = ~in_control \n",
    "\n",
    "    if (df[group & in_control].shape[0] != 0) & (df[group & in_test].shape[0] != 0):\n",
    "\n",
    "        conversion_control = df[group & in_control]['current_day_lead_buy'].sum() / df[group & in_control].shape[0]\n",
    "        conversion_test = df[group & in_test]['current_day_lead_buy'].sum() / df[group & in_test].shape[0]\n",
    "        conversion_from_last_carousel = conversion_test - conversion_control\n",
    "        relative_segment_size = df[group].shape[0] / df.shape[0]\n",
    "        absolute_segment_size = df[group].shape[0]\n",
    "        return conversion_from_last_carousel, relative_segment_size, absolute_segment_size\n",
    "    else: return 0,0,0"
   ]
  },
  {
   "cell_type": "code",
   "execution_count": 48,
   "metadata": {
    "collapsed": false,
    "scrolled": false
   },
   "outputs": [
    {
     "name": "stdout",
     "output_type": "stream",
     "text": [
      "\n",
      "past28d_views_property_primary_Buy :\n",
      "lift                relative seg size\n",
      "==================  =================\n",
      "0.00162922600646 0.342413147116\n",
      "\n",
      "past28d_views_section_primary_SRP :\n",
      "lift                relative seg size\n",
      "==================  =================\n",
      "0.00173291994116 0.277034269832\n",
      "\n",
      "past28d_visits_ref_primary_Direct :\n",
      "lift                relative seg size\n",
      "==================  =================\n",
      "0.00168812902246 0.238267628016\n"
     ]
    }
   ],
   "source": [
    "for d in dummified_categorical_features:\n",
    "    rate, relative_size, absolute_size = lift_control_categorical(d)\n",
    "    if rate > 0.0013 and relative_size > 0.20:  \n",
    "        print()\n",
    "        print(d,\":\")\n",
    "        print(\"lift                relative seg size\")\n",
    "        print(\"==================  =================\")\n",
    "        print(rate, relative_size)"
   ]
  },
  {
   "cell_type": "code",
   "execution_count": null,
   "metadata": {
    "collapsed": true
   },
   "outputs": [],
   "source": []
  },
  {
   "cell_type": "code",
   "execution_count": null,
   "metadata": {
    "collapsed": true
   },
   "outputs": [],
   "source": []
  },
  {
   "cell_type": "markdown",
   "metadata": {
    "collapsed": true
   },
   "source": [
    "### Proof / Sanity Check"
   ]
  },
  {
   "cell_type": "code",
   "execution_count": 432,
   "metadata": {
    "collapsed": false,
    "scrolled": true
   },
   "outputs": [
    {
     "data": {
      "text/plain": [
       "11634"
      ]
     },
     "execution_count": 432,
     "metadata": {},
     "output_type": "execute_result"
    }
   ],
   "source": [
    "df.current_day_lead_buy.sum()"
   ]
  },
  {
   "cell_type": "code",
   "execution_count": 440,
   "metadata": {
    "collapsed": false,
    "scrolled": false
   },
   "outputs": [
    {
     "data": {
      "text/plain": [
       "5512"
      ]
     },
     "execution_count": 440,
     "metadata": {},
     "output_type": "execute_result"
    }
   ],
   "source": [
    "df_raw[(df_raw.experiment_control==1) & (df.current_day_lead_buy < 50)]['current_day_lead_buy'].sum()"
   ]
  },
  {
   "cell_type": "code",
   "execution_count": 441,
   "metadata": {
    "collapsed": false,
    "scrolled": false
   },
   "outputs": [
    {
     "data": {
      "text/plain": [
       "6122"
      ]
     },
     "execution_count": 441,
     "metadata": {},
     "output_type": "execute_result"
    }
   ],
   "source": [
    "df_raw[(df_raw.experiment_test==1) & (df.current_day_lead_buy < 50)]['current_day_lead_buy'].sum()"
   ]
  },
  {
   "cell_type": "code",
   "execution_count": 447,
   "metadata": {
    "collapsed": false
   },
   "outputs": [
    {
     "data": {
      "text/plain": [
       "610"
      ]
     },
     "execution_count": 447,
     "metadata": {},
     "output_type": "execute_result"
    }
   ],
   "source": [
    "6122-5512"
   ]
  },
  {
   "cell_type": "code",
   "execution_count": 109,
   "metadata": {
    "collapsed": true
   },
   "outputs": [],
   "source": [
    "group = (df.past28d_visits >= 1)\n",
    "not_in_group = ~group\n",
    "in_control = (df.experiment_control == 1)\n",
    "in_test = ~in_control"
   ]
  },
  {
   "cell_type": "code",
   "execution_count": 108,
   "metadata": {
    "collapsed": false
   },
   "outputs": [
    {
     "data": {
      "text/plain": [
       "1934"
      ]
     },
     "execution_count": 108,
     "metadata": {},
     "output_type": "execute_result"
    }
   ],
   "source": [
    "df[group & in_control]['current_day_lead_buy'].sum()"
   ]
  },
  {
   "cell_type": "code",
   "execution_count": 110,
   "metadata": {
    "collapsed": false
   },
   "outputs": [
    {
     "data": {
      "text/plain": [
       "3578"
      ]
     },
     "execution_count": 110,
     "metadata": {},
     "output_type": "execute_result"
    }
   ],
   "source": [
    "df[not_in_group & in_control]['current_day_lead_buy'].sum()"
   ]
  },
  {
   "cell_type": "code",
   "execution_count": 112,
   "metadata": {
    "collapsed": false
   },
   "outputs": [
    {
     "data": {
      "text/plain": [
       "2220"
      ]
     },
     "execution_count": 112,
     "metadata": {},
     "output_type": "execute_result"
    }
   ],
   "source": [
    "df[group & in_test]['current_day_lead_buy'].sum()"
   ]
  },
  {
   "cell_type": "code",
   "execution_count": 113,
   "metadata": {
    "collapsed": false
   },
   "outputs": [
    {
     "data": {
      "text/plain": [
       "3902"
      ]
     },
     "execution_count": 113,
     "metadata": {},
     "output_type": "execute_result"
    }
   ],
   "source": [
    "df[not_in_group & in_test]['current_day_lead_buy'].sum()"
   ]
  },
  {
   "cell_type": "code",
   "execution_count": 115,
   "metadata": {
    "collapsed": false
   },
   "outputs": [
    {
     "data": {
      "text/plain": [
       "286"
      ]
     },
     "execution_count": 115,
     "metadata": {},
     "output_type": "execute_result"
    }
   ],
   "source": [
    "2220-1934"
   ]
  },
  {
   "cell_type": "code",
   "execution_count": 116,
   "metadata": {
    "collapsed": false
   },
   "outputs": [
    {
     "data": {
      "text/plain": [
       "324"
      ]
     },
     "execution_count": 116,
     "metadata": {},
     "output_type": "execute_result"
    }
   ],
   "source": [
    "3902-3578"
   ]
  },
  {
   "cell_type": "code",
   "execution_count": 118,
   "metadata": {
    "collapsed": false
   },
   "outputs": [
    {
     "data": {
      "text/plain": [
       "0.46885245901639344"
      ]
     },
     "execution_count": 118,
     "metadata": {},
     "output_type": "execute_result"
    }
   ],
   "source": [
    "286/(286+324)"
   ]
  },
  {
   "cell_type": "code",
   "execution_count": 121,
   "metadata": {
    "collapsed": false
   },
   "outputs": [
    {
     "data": {
      "text/plain": [
       "0.37431261811689687"
      ]
     },
     "execution_count": 121,
     "metadata": {},
     "output_type": "execute_result"
    }
   ],
   "source": [
    "df[group].shape[0] / df.shape[0]"
   ]
  },
  {
   "cell_type": "code",
   "execution_count": null,
   "metadata": {
    "collapsed": true
   },
   "outputs": [],
   "source": []
  },
  {
   "cell_type": "code",
   "execution_count": null,
   "metadata": {
    "collapsed": true
   },
   "outputs": [],
   "source": []
  },
  {
   "cell_type": "code",
   "execution_count": null,
   "metadata": {
    "collapsed": false
   },
   "outputs": [],
   "source": []
  },
  {
   "cell_type": "code",
   "execution_count": 49,
   "metadata": {
    "collapsed": false
   },
   "outputs": [
    {
     "name": "stdout",
     "output_type": "stream",
     "text": [
      "\n",
      "past28d_visits\n",
      "cutoff conversion from last carousel relative seg size\n",
      "====== ============================= =================\n",
      "(0, 0.0010765042928561133, 1.0)\n",
      "(1, 0.0013150688200855819, 0.37431261811689687)\n",
      "(3, 0.0019318268343796099, 0.20961697343819777)\n",
      "(15, 0.003542439164028818, 0.04571175488354052)\n",
      "(20, 0.003393827961157665, 0.030281940046820367)\n"
     ]
    }
   ],
   "source": [
    "print()\n",
    "print('past28d_visits')\n",
    "print(\"cutoff conversion from last carousel relative seg size\")\n",
    "print(\"====== ============================= =================\")\n",
    "\n",
    "for cutoff in [0,1,3,15,20]:\n",
    "    print(lift_control_calc_2('past28d_visits', cutoff)[1:4])"
   ]
  },
  {
   "cell_type": "code",
   "execution_count": 120,
   "metadata": {
    "collapsed": true
   },
   "outputs": [],
   "source": [
    "results = [(lift_control_calc_2('past28d_visits', cutoff)[1:4]) for cutoff in [0,1,3,15,20]]"
   ]
  },
  {
   "cell_type": "code",
   "execution_count": 173,
   "metadata": {
    "collapsed": false,
    "scrolled": true
   },
   "outputs": [
    {
     "data": {
      "image/png": "[encoded data removed]",
      "text/plain": [
       "<matplotlib.figure.Figure at 0x11658e110>"
      ]
     },
     "metadata": {},
     "output_type": "display_data"
    }
   ],
   "source": [
    "y = [r[1] for r in results]\n",
    "x_size = [r[2] for r in results]\n",
    "x_cut = [r[0] for r in results]\n",
    "\n",
    "plt.style.use('fivethirtyeight')\n",
    "\n",
    "fig = plt.figure()\n",
    "ax1 = fig.add_subplot(111)\n",
    "ax2 = ax1.twiny()\n",
    "\n",
    "ax1.plot(x_size, y)\n",
    "ax1.set_ylim(0, 0.004)\n",
    "ax1.set_xlabel(\"Relative segment size\")\n",
    "ax1.set_ylabel(\"Lift differential attributed to last carousel lead form\")\n",
    "ax1.invert_xaxis()\n",
    "\n",
    "ax2.set_xlabel(\"Various 'past28d_visits' cutoffs\")\n",
    "ax2.get_xaxis().set_ticks([])\n",
    "# ax2.plot(x_cut, np.ones(len(x_cut))) # Create a dummy plot\n",
    "\n",
    "#Horizontal lift threshold line\n",
    "plt.axhline(y=0.0013, ls='--', color='g', linewidth=3, label=\"Acceptable lift = 0.0013\", alpha=0.3)\n",
    "\n",
    "#Vertical cutoff lines\n",
    "plt.axvline(0.001, ls='--', linewidth=3, alpha=0.3)\n",
    "plt.axvline(1-0.3743126, ls='--', linewidth=2, alpha=0.3)\n",
    "plt.axvline(1-0.2096169, ls='--', linewidth=2, alpha=0.3)\n",
    "plt.axvline(1-0.0457117, ls='--', linewidth=2, alpha=0.3)\n",
    "\n",
    "#Line labels\n",
    "plt.text(0.001+0.01,0.00325,'cutoff=0',rotation=90)\n",
    "plt.text(1-0.3743126+0.01,0.00325,'cutoff=1',rotation=90)\n",
    "plt.text(1-0.2096169+0.01,0.00325,'cutoff=3',rotation=90)\n",
    "plt.text(1-0.0457117+0.01,0.00325,'cutoff=15',rotation=90)\n",
    "\n",
    "plt.legend()\n",
    "plt.show();"
   ]
  },
  {
   "cell_type": "code",
   "execution_count": null,
   "metadata": {
    "collapsed": true
   },
   "outputs": [],
   "source": []
  },
  {
   "cell_type": "code",
   "execution_count": 98,
   "metadata": {
    "collapsed": false
   },
   "outputs": [
    {
     "name": "stdout",
     "output_type": "stream",
     "text": [
      "\n",
      "past28d_views_section_ldp\n",
      "cutoff conversion from last carousel relative seg size\n",
      "====== ============================= =================\n",
      "(0, 0.0010765042928561133, 1.0)\n",
      "(1, 0.0013368591862769705, 0.35349103343172394)\n",
      "(3, 0.0019681583121039445, 0.2828606823523155)\n",
      "(15, 0.002214608578775753, 0.15422479095429742)\n",
      "(20, 0.0021899272186921594, 0.12943090236036645)\n"
     ]
    }
   ],
   "source": [
    "print()\n",
    "print('past28d_views_section_ldp')\n",
    "print(\"cutoff conversion from last carousel relative seg size\")\n",
    "print(\"====== ============================= =================\")\n",
    "\n",
    "for cutoff in [0,1,3,15,20]:\n",
    "    print(lift_control_calc_2('past28d_views_section_ldp', cutoff)[1:4])"
   ]
  },
  {
   "cell_type": "code",
   "execution_count": 185,
   "metadata": {
    "collapsed": true
   },
   "outputs": [],
   "source": [
    "results = [(lift_control_calc_2('past28d_views_section_ldp', cutoff)[1:4]) for cutoff in [0,1,3,15,20]]"
   ]
  },
  {
   "cell_type": "code",
   "execution_count": 190,
   "metadata": {
    "collapsed": false,
    "scrolled": true
   },
   "outputs": [
    {
     "data": {
      "image/png": "[encoded data removed]",
      "text/plain": [
       "<matplotlib.figure.Figure at 0x114ce6990>"
      ]
     },
     "metadata": {},
     "output_type": "display_data"
    }
   ],
   "source": [
    "y = [r[1] for r in results]\n",
    "x_size = [r[2] for r in results]\n",
    "x_cut = [r[0] for r in results]\n",
    "\n",
    "fig = plt.figure()\n",
    "ax1 = fig.add_subplot(111)\n",
    "ax2 = ax1.twiny()\n",
    "\n",
    "ax1.plot(x_size, y)\n",
    "ax1.set_ylim(0.0005, 0.0025)\n",
    "ax1.set_xlabel(\"Relative segment size\")\n",
    "ax1.set_ylabel(\"Lift differential attributed to last carousel lead form\")\n",
    "ax1.invert_xaxis()\n",
    "\n",
    "ax2.set_xlabel(\"Various 'past28d_views_section_ldp' cutoffs\")\n",
    "ax2.get_xaxis().set_ticks([])\n",
    "# ax2.plot(x_cut, np.ones(len(x_cut))) # Create a dummy plot\n",
    "\n",
    "#Horizontal lift threshold line\n",
    "plt.axhline(y=0.0013, ls='--', color='g', linewidth=3, label=\"Acceptable lift = 0.0013\", alpha=0.3)\n",
    "\n",
    "#Vertical cutoff lines\n",
    "plt.axvline(0.001, ls='--', linewidth=3, alpha=0.3)\n",
    "plt.axvline(1-0.353491, ls='--', linewidth=2, alpha=0.3)\n",
    "plt.axvline(1-0.282860, ls='--', linewidth=2, alpha=0.3)\n",
    "plt.axvline(1-0.154224, ls='--', linewidth=2, alpha=0.3)\n",
    "\n",
    "#Line labels\n",
    "plt.text(0.001+0.01,0.0018,'cutoff=0',rotation=90)\n",
    "plt.text(1-0.353491+0.01,0.0018,'cutoff=1',rotation=90)\n",
    "plt.text(1-0.282860+0.01,0.0018,'cutoff=3',rotation=90)\n",
    "plt.text(1-0.154224+0.01,0.0018,'cutoff=15',rotation=90)\n",
    "\n",
    "plt.legend()\n",
    "plt.show();"
   ]
  },
  {
   "cell_type": "code",
   "execution_count": null,
   "metadata": {
    "collapsed": true
   },
   "outputs": [],
   "source": []
  },
  {
   "cell_type": "code",
   "execution_count": null,
   "metadata": {
    "collapsed": true
   },
   "outputs": [],
   "source": []
  },
  {
   "cell_type": "code",
   "execution_count": null,
   "metadata": {
    "collapsed": true
   },
   "outputs": [],
   "source": []
  }
 ],
 "metadata": {
  "anaconda-cloud": {},
  "kernelspec": {
   "display_name": "Python [Root]",
   "language": "python",
   "name": "Python [Root]"
  },
  "language_info": {
   "codemirror_mode": {
    "name": "ipython",
    "version": 2
   },
   "file_extension": ".py",
   "mimetype": "text/x-python",
   "name": "python",
   "nbconvert_exporter": "python",
   "pygments_lexer": "ipython2",
   "version": "2.7.12"
  }
 },
 "nbformat": 4,
 "nbformat_minor": 0
}
