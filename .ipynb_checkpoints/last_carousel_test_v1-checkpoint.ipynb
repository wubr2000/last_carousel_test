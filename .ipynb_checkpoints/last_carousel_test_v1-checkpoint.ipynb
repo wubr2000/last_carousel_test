{
 "cells": [
  {
   "cell_type": "code",
   "execution_count": 1,
   "metadata": {
    "collapsed": false
   },
   "outputs": [
    {
     "name": "stdout",
     "output_type": "stream",
     "text": [
      "Populating the interactive namespace from numpy and matplotlib\n"
     ]
    }
   ],
   "source": [
    "%pylab inline\n",
    "import pandas as pd\n",
    "import numpy as np\n",
    "import scipy as sp\n",
    "from pandas.io.json import json_normalize\n",
    "import json\n",
    "from datetime import date, timedelta\n",
    "from time import time\n",
    "\n",
    "import matplotlib.pyplot as plt\n",
    "import seaborn as sns\n",
    "\n",
    "import warnings\n",
    "warnings.filterwarnings('ignore');"
   ]
  },
  {
   "cell_type": "code",
   "execution_count": 2,
   "metadata": {
    "collapsed": false
   },
   "outputs": [],
   "source": [
    "df_raw = pd.read_csv('/Users/bwu/testing/large_data_folder/last_carousel_table_5_rolling.csv')"
   ]
  },
  {
   "cell_type": "code",
   "execution_count": 3,
   "metadata": {
    "collapsed": false,
    "scrolled": true
   },
   "outputs": [],
   "source": [
    "#Initial cleaning of feature names\n",
    "df_raw.columns = [col_names.replace('rolling_','') for col_names in df_raw.columns.values]"
   ]
  },
  {
   "cell_type": "code",
   "execution_count": 4,
   "metadata": {
    "collapsed": false
   },
   "outputs": [
    {
     "data": {
      "text/html": [
       "<div>\n",
       "<table border=\"1\" class=\"dataframe\">\n",
       "  <thead>\n",
       "    <tr style=\"text-align: right;\">\n",
       "      <th></th>\n",
       "      <th>first_visit_num</th>\n",
       "      <th>experiment_visid</th>\n",
       "      <th>experiment_control</th>\n",
       "      <th>experiment_test</th>\n",
       "      <th>visid</th>\n",
       "      <th>visit_num</th>\n",
       "      <th>visit_ux_type</th>\n",
       "      <th>visit_date</th>\n",
       "      <th>visit_hour</th>\n",
       "      <th>visit_geo_country</th>\n",
       "      <th>...</th>\n",
       "      <th>past28d_page_interactions_per_view</th>\n",
       "      <th>past28d_views_section_max</th>\n",
       "      <th>past28d_views_property_max</th>\n",
       "      <th>past28d_visits_ref_max</th>\n",
       "      <th>past28d_visits_camp_max</th>\n",
       "      <th>past28d_views_section_primary</th>\n",
       "      <th>past28d_views_property_primary</th>\n",
       "      <th>past28d_visits_ref_primary</th>\n",
       "      <th>past28d_visits_camp_primary</th>\n",
       "      <th>visit_date_num</th>\n",
       "    </tr>\n",
       "  </thead>\n",
       "  <tbody>\n",
       "    <tr>\n",
       "      <th>0</th>\n",
       "      <td>1</td>\n",
       "      <td>100773303390494114</td>\n",
       "      <td>0</td>\n",
       "      <td>1</td>\n",
       "      <td>100773303390494114</td>\n",
       "      <td>2</td>\n",
       "      <td>Desktop Web</td>\n",
       "      <td>2016-08-21 00:00:00 UTC</td>\n",
       "      <td>12</td>\n",
       "      <td>usa</td>\n",
       "      <td>...</td>\n",
       "      <td>0.25000</td>\n",
       "      <td>1.0</td>\n",
       "      <td>0.0</td>\n",
       "      <td>1.0</td>\n",
       "      <td>1.0</td>\n",
       "      <td>LDP</td>\n",
       "      <td>NaN</td>\n",
       "      <td>Search</td>\n",
       "      <td>Other</td>\n",
       "      <td>1</td>\n",
       "    </tr>\n",
       "    <tr>\n",
       "      <th>1</th>\n",
       "      <td>1</td>\n",
       "      <td>1008930168569201832</td>\n",
       "      <td>0</td>\n",
       "      <td>1</td>\n",
       "      <td>1008930168569201832</td>\n",
       "      <td>31</td>\n",
       "      <td>Desktop Web</td>\n",
       "      <td>2016-08-21 00:00:00 UTC</td>\n",
       "      <td>16</td>\n",
       "      <td>usa</td>\n",
       "      <td>...</td>\n",
       "      <td>0.35533</td>\n",
       "      <td>158.0</td>\n",
       "      <td>176.0</td>\n",
       "      <td>10.0</td>\n",
       "      <td>5.0</td>\n",
       "      <td>SRP</td>\n",
       "      <td>Buy</td>\n",
       "      <td>Direct</td>\n",
       "      <td>NaN</td>\n",
       "      <td>1</td>\n",
       "    </tr>\n",
       "    <tr>\n",
       "      <th>2</th>\n",
       "      <td>1</td>\n",
       "      <td>1014712710176659876</td>\n",
       "      <td>1</td>\n",
       "      <td>0</td>\n",
       "      <td>1014712710176659876</td>\n",
       "      <td>1</td>\n",
       "      <td>Desktop Web</td>\n",
       "      <td>2016-08-30 00:00:00 UTC</td>\n",
       "      <td>8</td>\n",
       "      <td>usa</td>\n",
       "      <td>...</td>\n",
       "      <td>NaN</td>\n",
       "      <td>NaN</td>\n",
       "      <td>NaN</td>\n",
       "      <td>NaN</td>\n",
       "      <td>NaN</td>\n",
       "      <td>NaN</td>\n",
       "      <td>NaN</td>\n",
       "      <td>NaN</td>\n",
       "      <td>NaN</td>\n",
       "      <td>1</td>\n",
       "    </tr>\n",
       "    <tr>\n",
       "      <th>3</th>\n",
       "      <td>1</td>\n",
       "      <td>1014866083519326140</td>\n",
       "      <td>1</td>\n",
       "      <td>0</td>\n",
       "      <td>1014866083519326140</td>\n",
       "      <td>40</td>\n",
       "      <td>Desktop Web</td>\n",
       "      <td>2016-08-22 00:00:00 UTC</td>\n",
       "      <td>4</td>\n",
       "      <td>usa</td>\n",
       "      <td>...</td>\n",
       "      <td>NaN</td>\n",
       "      <td>NaN</td>\n",
       "      <td>NaN</td>\n",
       "      <td>NaN</td>\n",
       "      <td>NaN</td>\n",
       "      <td>NaN</td>\n",
       "      <td>NaN</td>\n",
       "      <td>NaN</td>\n",
       "      <td>NaN</td>\n",
       "      <td>1</td>\n",
       "    </tr>\n",
       "    <tr>\n",
       "      <th>4</th>\n",
       "      <td>1</td>\n",
       "      <td>10154653262486997040</td>\n",
       "      <td>0</td>\n",
       "      <td>1</td>\n",
       "      <td>10154653262486997040</td>\n",
       "      <td>24</td>\n",
       "      <td>Desktop Web</td>\n",
       "      <td>2016-08-23 00:00:00 UTC</td>\n",
       "      <td>8</td>\n",
       "      <td>usa</td>\n",
       "      <td>...</td>\n",
       "      <td>0.45000</td>\n",
       "      <td>200.0</td>\n",
       "      <td>242.0</td>\n",
       "      <td>8.0</td>\n",
       "      <td>8.0</td>\n",
       "      <td>SRP</td>\n",
       "      <td>Buy</td>\n",
       "      <td>Direct</td>\n",
       "      <td>Other</td>\n",
       "      <td>1</td>\n",
       "    </tr>\n",
       "  </tbody>\n",
       "</table>\n",
       "<p>5 rows × 194 columns</p>\n",
       "</div>"
      ],
      "text/plain": [
       "   first_visit_num      experiment_visid  experiment_control  experiment_test  \\\n",
       "0                1    100773303390494114                   0                1   \n",
       "1                1   1008930168569201832                   0                1   \n",
       "2                1   1014712710176659876                   1                0   \n",
       "3                1   1014866083519326140                   1                0   \n",
       "4                1  10154653262486997040                   0                1   \n",
       "\n",
       "                  visid  visit_num visit_ux_type               visit_date  \\\n",
       "0    100773303390494114          2   Desktop Web  2016-08-21 00:00:00 UTC   \n",
       "1   1008930168569201832         31   Desktop Web  2016-08-21 00:00:00 UTC   \n",
       "2   1014712710176659876          1   Desktop Web  2016-08-30 00:00:00 UTC   \n",
       "3   1014866083519326140         40   Desktop Web  2016-08-22 00:00:00 UTC   \n",
       "4  10154653262486997040         24   Desktop Web  2016-08-23 00:00:00 UTC   \n",
       "\n",
       "   visit_hour visit_geo_country       ...        \\\n",
       "0          12               usa       ...         \n",
       "1          16               usa       ...         \n",
       "2           8               usa       ...         \n",
       "3           4               usa       ...         \n",
       "4           8               usa       ...         \n",
       "\n",
       "  past28d_page_interactions_per_view past28d_views_section_max  \\\n",
       "0                            0.25000                       1.0   \n",
       "1                            0.35533                     158.0   \n",
       "2                                NaN                       NaN   \n",
       "3                                NaN                       NaN   \n",
       "4                            0.45000                     200.0   \n",
       "\n",
       "  past28d_views_property_max past28d_visits_ref_max past28d_visits_camp_max  \\\n",
       "0                        0.0                    1.0                     1.0   \n",
       "1                      176.0                   10.0                     5.0   \n",
       "2                        NaN                    NaN                     NaN   \n",
       "3                        NaN                    NaN                     NaN   \n",
       "4                      242.0                    8.0                     8.0   \n",
       "\n",
       "   past28d_views_section_primary  past28d_views_property_primary  \\\n",
       "0                            LDP                             NaN   \n",
       "1                            SRP                             Buy   \n",
       "2                            NaN                             NaN   \n",
       "3                            NaN                             NaN   \n",
       "4                            SRP                             Buy   \n",
       "\n",
       "   past28d_visits_ref_primary  past28d_visits_camp_primary  visit_date_num  \n",
       "0                      Search                        Other               1  \n",
       "1                      Direct                          NaN               1  \n",
       "2                         NaN                          NaN               1  \n",
       "3                         NaN                          NaN               1  \n",
       "4                      Direct                        Other               1  \n",
       "\n",
       "[5 rows x 194 columns]"
      ]
     },
     "execution_count": 4,
     "metadata": {},
     "output_type": "execute_result"
    }
   ],
   "source": [
    "df_raw.head()"
   ]
  },
  {
   "cell_type": "code",
   "execution_count": 5,
   "metadata": {
    "collapsed": false
   },
   "outputs": [],
   "source": [
    "#Desktop only\n",
    "df_raw = df_raw[df_raw.visit_ux_type==\"Desktop Web\"]"
   ]
  },
  {
   "cell_type": "markdown",
   "metadata": {},
   "source": [
    "### Select Relavant Features"
   ]
  },
  {
   "cell_type": "code",
   "execution_count": 6,
   "metadata": {
    "collapsed": true
   },
   "outputs": [],
   "source": [
    "# seller = ['visit_nfs_recentlysold_lead', 'current_day_nfs_recentlysold_lead', 'past28d_nfs_recentlysold_lead', \n",
    "#           'past7d_nfs_recentlysold_lead','visit_seller_lead', 'current_day_seller_lead', 'past28d_seller_lead', 'past7d_seller_lead',\n",
    "#             'visit_nfs_offmarket_lead', 'current_day_nfs_offmarket_lead', \n",
    "#             'past28d_nfs_offmarket_lead', 'past7d_nfs_offmarket_lead', \n",
    "#             'planning_to_sell', 'registered_seller', 'new_survey_seller', ]"
   ]
  },
  {
   "cell_type": "code",
   "execution_count": 7,
   "metadata": {
    "collapsed": true
   },
   "outputs": [],
   "source": [
    "identifiers = ['experiment_control', 'experiment_test', 'visid',]"
   ]
  },
  {
   "cell_type": "code",
   "execution_count": 8,
   "metadata": {
    "collapsed": true
   },
   "outputs": [],
   "source": [
    "buyer_leads = ['current_day_lead_buy', \n",
    "#          'visit_lead_buy', \n",
    "#          'past28d_lead_buy', \n",
    "#          'past7d_lead_buy'\n",
    "        ]"
   ]
  },
  {
   "cell_type": "code",
   "execution_count": 12,
   "metadata": {
    "collapsed": true
   },
   "outputs": [],
   "source": [
    "secondary_features = ['visit_geo_country', 'visit_geo_region', 'visit_campaign_subtype',\n",
    "                        'past7d_visits_geo_usa', \n",
    "                        'past28d_views_pct_section_home', 'past28d_views_pct_section_srp', \n",
    "                        'past28d_views_pct_section_ldp', 'past28d_views_pct_section_news', \n",
    "                        'past28d_views_pct_section_acct', 'past28d_views_pct_property_sold', \n",
    "                        'past28d_views_pct_property_buy', 'past28d_views_pct_property_rent', \n",
    "                        'past28d_views_pct_property_sell', 'past28d_visits_pct_geo_usa', 'past28d_visits_pct_ref_direct', \n",
    "                        'past28d_visits_pct_ref_search', 'past28d_visits_pct_ref_internal', \n",
    "                        'past28d_visits_pct_ref_social', 'past28d_visits_pct_ref_other', \n",
    "                        'past28d_visits_pct_camp_paid_search', 'past28d_visits_pct_camp_email', \n",
    "                        'past28d_visits_pct_camp_syndication', 'past28d_visits_pct_camp_display', \n",
    "                        'past28d_visits_pct_camp_affiliate', 'past28d_visits_pct_camp_social', \n",
    "                        'past28d_visits_pct_camp_other', 'past28d_visits_geo_usa', \n",
    "                      \n",
    "                        'ldp_sale_views', 'ldp_rent_views', 'ldp_unknown_views', 'ldp_sale_price_count', 'ldp_rent_price_count', 'geo_count', \n",
    "                        'ldp_sale_price_mean', 'ldp_rent_price_mean', 'ldp_sale_price_median', 'ldp_sale_price_sd', 'ldp_sale_price_cv', \n",
    "                        'ldp_rent_price_sd', 'ldp_rent_price_cv', 'latitude_mean', 'longitude_mean', 'geo_distance_to_mean_avg', \n",
    "                        'zip_med_income_median', 'zip_med_age_median', 'ldp_sale_price_zip_mean_abs_dev_mean', \n",
    "                        'ldp_sale_price_zip_zscore_mean', 'distinct_zips', 'distinct_states',\n",
    "                      \n",
    "                        'past7d_ldp_rent_price_count', 'past7d_ldp_sale_price_mean', 'past7d_ldp_rent_price_mean', \n",
    "                        'past7d_ldp_sale_price_median', 'past7d_ldp_rent_price_median', 'past7d_ldp_sale_price_sd', 'past7d_zip_med_age_median', \n",
    "                        'past7d_ldp_sale_price_cv', 'past7d_ldp_rent_price_sd', 'past7d_ldp_rent_price_cv', 'past7d_latitude_mean', \n",
    "                        'past7d_longitude_mean', 'past7d_zip_med_income_median', 'past7d_ldp_sale_price_zip_mean_abs_dev_mean', 'past7d_ldp_sale_price_zip_zscore_mean',\n",
    "\n",
    "                        'past28d_ldp_sale_price_mean', 'past28d_ldp_rent_price_mean', 'past28d_ldp_sale_price_median',\n",
    "                        'past28d_ldp_rent_price_median', 'past28d_ldp_sale_price_sd', 'past28d_ldp_sale_price_cv', \n",
    "                        'past28d_ldp_rent_price_sd', 'past28d_ldp_rent_price_cv', 'past28d_latitude_mean', \n",
    "                        'past28d_longitude_mean',  'past28d_zip_med_income_median', \n",
    "                        'past28d_zip_med_age_median',\n",
    "                        'past28d_ldp_sale_price_zip_mean_abs_dev_mean', 'past28d_ldp_sale_price_zip_zscore_mean', \n",
    "                        \n",
    "                        'visit_date_num', 'visit_date', \n",
    "                        'visit_views', 'visit_views_ldp_for_sale', 'visit_views_ldp_rent', \n",
    "                     ]"
   ]
  },
  {
   "cell_type": "code",
   "execution_count": 13,
   "metadata": {
    "collapsed": true
   },
   "outputs": [],
   "source": [
    "primary_features = ['visit_num', 'visit_hour', 'visit_referrer_type', \n",
    "                    'visit_campaign_type', 'visit_landing_page_type', \n",
    "                                        \n",
    "                    'past28d_visits_registered', \n",
    "                    \n",
    "                    'past7d_views', 'past7d_page_interactions', 'past7d_visits', 'past7d_active_days', \n",
    "                    'past7d_views_section_home', 'past7d_views_section_srp', 'past7d_views_section_ldp', \n",
    "                    'past7d_views_section_news', 'past7d_views_section_acct', 'past7d_views_property_sold', \n",
    "                    'past7d_views_property_buy', 'past7d_views_property_rent', 'past7d_views_property_sell', \n",
    "                    'past7d_visits_ref_direct', 'past7d_visits_ref_search', 'past7d_visits_ref_internal', \n",
    "                    'past7d_visits_ref_social', 'past7d_visits_ref_other', 'past7d_visits_camp_paid_search', \n",
    "                    'past7d_visits_camp_email', 'past7d_visits_camp_syndication', 'past7d_visits_camp_display', \n",
    "                    'past7d_visits_camp_affiliate', 'past7d_visits_camp_social', 'past7d_visits_camp_other', \n",
    "                    \n",
    "                    'past28d_views', 'past28d_page_interactions', 'past28d_visits', 'past28d_active_days', \n",
    "                    'past28d_views_section_home', 'past28d_views_section_srp', 'past28d_views_section_ldp', \n",
    "                    'past28d_views_section_news', 'past28d_views_section_acct', 'past28d_views_property_sold', \n",
    "                    'past28d_views_property_buy', 'past28d_views_property_rent', 'past28d_views_property_sell', \n",
    "                    'past28d_visits_ref_direct', 'past28d_visits_ref_search', \n",
    "                    'past28d_visits_ref_internal', 'past28d_visits_ref_social', 'past28d_visits_ref_other', \n",
    "                    'past28d_visits_camp_paid_search', 'past28d_visits_camp_email', 'past28d_visits_camp_syndication', \n",
    "                    'past28d_visits_camp_display', 'past28d_visits_camp_affiliate', \n",
    "                    'past28d_visits_camp_social', 'past28d_visits_camp_other',  \n",
    "                    \n",
    "                    'past7d_ldp_sale_views', 'past7d_ldp_rent_views', 'past7d_ldp_unknown_views', \n",
    "                    'past7d_ldp_sale_price_count', 'past7d_distinct_zips', 'past7d_distinct_states', \n",
    "                    \n",
    "                    'past28d_ldp_sale_views', 'past28d_ldp_rent_views', 'past28d_ldp_unknown_views', \n",
    "                    'past28d_ldp_sale_price_count', 'past28d_ldp_rent_price_count', \n",
    "                    'past28d_distinct_zips', 'past28d_distinct_states', \n",
    "                                                            \n",
    "                    'past7d28d_views_ratio', 'past7d_visits_per_active_day', \n",
    "                    'past7d_views_per_active_day', 'past7d_views_per_visit', 'past7d_page_interactions_per_view', \n",
    "                    \n",
    "                    'past28d_visits_per_active_day', 'past28d_views_per_active_day', 'past28d_views_per_visit', \n",
    "                    'past28d_page_interactions_per_view', 'past28d_views_section_max', 'past28d_views_property_max', \n",
    "                    'past28d_visits_ref_max', 'past28d_visits_camp_max', 'past28d_views_section_primary', \n",
    "                    'past28d_views_property_primary', 'past28d_visits_ref_primary', 'past28d_visits_camp_primary', \n",
    "                   ]"
   ]
  },
  {
   "cell_type": "code",
   "execution_count": 25,
   "metadata": {
    "collapsed": true
   },
   "outputs": [],
   "source": [
    "#Only use primary features\n",
    "df_primary = df_raw[primary_features]"
   ]
  },
  {
   "cell_type": "code",
   "execution_count": 26,
   "metadata": {
    "collapsed": false
   },
   "outputs": [],
   "source": [
    "#Seperate Numeric and Categorical features\n",
    "primary_numeric_columns = df_primary.select_dtypes(include=[np.number]).columns.values\n",
    "primary_categorical_columns = list(set(df_primary.columns.values) - set(primary_numeric_columns))"
   ]
  },
  {
   "cell_type": "markdown",
   "metadata": {},
   "source": [
    "### Dummify Categorical Features"
   ]
  },
  {
   "cell_type": "code",
   "execution_count": 27,
   "metadata": {
    "collapsed": false
   },
   "outputs": [
    {
     "data": {
      "text/plain": [
       "['past28d_visits_camp_primary',\n",
       " 'visit_campaign_type',\n",
       " 'visit_referrer_type',\n",
       " 'past28d_visits_ref_primary',\n",
       " 'visit_landing_page_type',\n",
       " 'past28d_views_section_primary',\n",
       " 'past28d_views_property_primary']"
      ]
     },
     "execution_count": 27,
     "metadata": {},
     "output_type": "execute_result"
    }
   ],
   "source": [
    "primary_categorical_columns"
   ]
  },
  {
   "cell_type": "code",
   "execution_count": 28,
   "metadata": {
    "collapsed": true
   },
   "outputs": [],
   "source": [
    "#Other numeric features that should be considered as categorical variables\n",
    "other_categorical_columns = ['visit_hour']"
   ]
  },
  {
   "cell_type": "code",
   "execution_count": 29,
   "metadata": {
    "collapsed": false
   },
   "outputs": [],
   "source": [
    "#Dummify categorical variables\n",
    "for column in primary_categorical_columns+other_categorical_columns:\n",
    "    dummies = pd.get_dummies(df_primary[column], prefix = column)\n",
    "    #Add dummy columns to matrix and remove original column from matrix\n",
    "    df_primary[dummies.columns] = dummies\n",
    "    df_primary = df_primary.drop(column,1)"
   ]
  },
  {
   "cell_type": "code",
   "execution_count": 34,
   "metadata": {
    "collapsed": false
   },
   "outputs": [],
   "source": [
    "dummified_categorical_features = list(set(df_primary.columns.values) - set(primary_numeric_columns))"
   ]
  },
  {
   "cell_type": "markdown",
   "metadata": {
    "collapsed": true
   },
   "source": [
    "### Handle Missing Numeric Values"
   ]
  },
  {
   "cell_type": "code",
   "execution_count": 39,
   "metadata": {
    "collapsed": false
   },
   "outputs": [],
   "source": [
    "#Change all numeric missing values to zeroes (this is in fact true for this dataset - nan represent 0's)\n",
    "df_primary = df_primary.fillna(0)"
   ]
  },
  {
   "cell_type": "code",
   "execution_count": 44,
   "metadata": {
    "collapsed": false
   },
   "outputs": [
    {
     "data": {
      "text/plain": [
       "0"
      ]
     },
     "execution_count": 44,
     "metadata": {},
     "output_type": "execute_result"
    }
   ],
   "source": [
    "#Check if there are any null values remaining in the data\n",
    "pd.isnull(df_primary).sum().sum()"
   ]
  },
  {
   "cell_type": "code",
   "execution_count": 45,
   "metadata": {
    "collapsed": false
   },
   "outputs": [
    {
     "data": {
      "text/html": [
       "<div>\n",
       "<table border=\"1\" class=\"dataframe\">\n",
       "  <thead>\n",
       "    <tr style=\"text-align: right;\">\n",
       "      <th></th>\n",
       "      <th>visit_num</th>\n",
       "      <th>past28d_visits_registered</th>\n",
       "      <th>past7d_views</th>\n",
       "      <th>past7d_page_interactions</th>\n",
       "      <th>past7d_visits</th>\n",
       "      <th>past7d_active_days</th>\n",
       "      <th>past7d_views_section_home</th>\n",
       "      <th>past7d_views_section_srp</th>\n",
       "      <th>past7d_views_section_ldp</th>\n",
       "      <th>past7d_views_section_news</th>\n",
       "      <th>...</th>\n",
       "      <th>visit_hour_14</th>\n",
       "      <th>visit_hour_15</th>\n",
       "      <th>visit_hour_16</th>\n",
       "      <th>visit_hour_17</th>\n",
       "      <th>visit_hour_18</th>\n",
       "      <th>visit_hour_19</th>\n",
       "      <th>visit_hour_20</th>\n",
       "      <th>visit_hour_21</th>\n",
       "      <th>visit_hour_22</th>\n",
       "      <th>visit_hour_23</th>\n",
       "    </tr>\n",
       "  </thead>\n",
       "  <tbody>\n",
       "    <tr>\n",
       "      <th>0</th>\n",
       "      <td>2</td>\n",
       "      <td>1.0</td>\n",
       "      <td>0.0</td>\n",
       "      <td>0.0</td>\n",
       "      <td>0.0</td>\n",
       "      <td>0</td>\n",
       "      <td>0.0</td>\n",
       "      <td>0.0</td>\n",
       "      <td>0.0</td>\n",
       "      <td>0.0</td>\n",
       "      <td>...</td>\n",
       "      <td>0.0</td>\n",
       "      <td>0.0</td>\n",
       "      <td>0.0</td>\n",
       "      <td>0.0</td>\n",
       "      <td>0.0</td>\n",
       "      <td>0.0</td>\n",
       "      <td>0.0</td>\n",
       "      <td>0.0</td>\n",
       "      <td>0.0</td>\n",
       "      <td>0.0</td>\n",
       "    </tr>\n",
       "    <tr>\n",
       "      <th>1</th>\n",
       "      <td>31</td>\n",
       "      <td>5.0</td>\n",
       "      <td>129.0</td>\n",
       "      <td>35.0</td>\n",
       "      <td>5.0</td>\n",
       "      <td>3</td>\n",
       "      <td>5.0</td>\n",
       "      <td>112.0</td>\n",
       "      <td>9.0</td>\n",
       "      <td>0.0</td>\n",
       "      <td>...</td>\n",
       "      <td>0.0</td>\n",
       "      <td>0.0</td>\n",
       "      <td>1.0</td>\n",
       "      <td>0.0</td>\n",
       "      <td>0.0</td>\n",
       "      <td>0.0</td>\n",
       "      <td>0.0</td>\n",
       "      <td>0.0</td>\n",
       "      <td>0.0</td>\n",
       "      <td>0.0</td>\n",
       "    </tr>\n",
       "    <tr>\n",
       "      <th>2</th>\n",
       "      <td>1</td>\n",
       "      <td>0.0</td>\n",
       "      <td>0.0</td>\n",
       "      <td>0.0</td>\n",
       "      <td>0.0</td>\n",
       "      <td>0</td>\n",
       "      <td>0.0</td>\n",
       "      <td>0.0</td>\n",
       "      <td>0.0</td>\n",
       "      <td>0.0</td>\n",
       "      <td>...</td>\n",
       "      <td>0.0</td>\n",
       "      <td>0.0</td>\n",
       "      <td>0.0</td>\n",
       "      <td>0.0</td>\n",
       "      <td>0.0</td>\n",
       "      <td>0.0</td>\n",
       "      <td>0.0</td>\n",
       "      <td>0.0</td>\n",
       "      <td>0.0</td>\n",
       "      <td>0.0</td>\n",
       "    </tr>\n",
       "    <tr>\n",
       "      <th>3</th>\n",
       "      <td>40</td>\n",
       "      <td>0.0</td>\n",
       "      <td>0.0</td>\n",
       "      <td>0.0</td>\n",
       "      <td>0.0</td>\n",
       "      <td>0</td>\n",
       "      <td>0.0</td>\n",
       "      <td>0.0</td>\n",
       "      <td>0.0</td>\n",
       "      <td>0.0</td>\n",
       "      <td>...</td>\n",
       "      <td>0.0</td>\n",
       "      <td>0.0</td>\n",
       "      <td>0.0</td>\n",
       "      <td>0.0</td>\n",
       "      <td>0.0</td>\n",
       "      <td>0.0</td>\n",
       "      <td>0.0</td>\n",
       "      <td>0.0</td>\n",
       "      <td>0.0</td>\n",
       "      <td>0.0</td>\n",
       "    </tr>\n",
       "    <tr>\n",
       "      <th>4</th>\n",
       "      <td>24</td>\n",
       "      <td>2.0</td>\n",
       "      <td>40.0</td>\n",
       "      <td>34.0</td>\n",
       "      <td>1.0</td>\n",
       "      <td>1</td>\n",
       "      <td>1.0</td>\n",
       "      <td>34.0</td>\n",
       "      <td>4.0</td>\n",
       "      <td>0.0</td>\n",
       "      <td>...</td>\n",
       "      <td>0.0</td>\n",
       "      <td>0.0</td>\n",
       "      <td>0.0</td>\n",
       "      <td>0.0</td>\n",
       "      <td>0.0</td>\n",
       "      <td>0.0</td>\n",
       "      <td>0.0</td>\n",
       "      <td>0.0</td>\n",
       "      <td>0.0</td>\n",
       "      <td>0.0</td>\n",
       "    </tr>\n",
       "  </tbody>\n",
       "</table>\n",
       "<p>5 rows × 143 columns</p>\n",
       "</div>"
      ],
      "text/plain": [
       "   visit_num  past28d_visits_registered  past7d_views  \\\n",
       "0          2                        1.0           0.0   \n",
       "1         31                        5.0         129.0   \n",
       "2          1                        0.0           0.0   \n",
       "3         40                        0.0           0.0   \n",
       "4         24                        2.0          40.0   \n",
       "\n",
       "   past7d_page_interactions  past7d_visits  past7d_active_days  \\\n",
       "0                       0.0            0.0                   0   \n",
       "1                      35.0            5.0                   3   \n",
       "2                       0.0            0.0                   0   \n",
       "3                       0.0            0.0                   0   \n",
       "4                      34.0            1.0                   1   \n",
       "\n",
       "   past7d_views_section_home  past7d_views_section_srp  \\\n",
       "0                        0.0                       0.0   \n",
       "1                        5.0                     112.0   \n",
       "2                        0.0                       0.0   \n",
       "3                        0.0                       0.0   \n",
       "4                        1.0                      34.0   \n",
       "\n",
       "   past7d_views_section_ldp  past7d_views_section_news      ...        \\\n",
       "0                       0.0                        0.0      ...         \n",
       "1                       9.0                        0.0      ...         \n",
       "2                       0.0                        0.0      ...         \n",
       "3                       0.0                        0.0      ...         \n",
       "4                       4.0                        0.0      ...         \n",
       "\n",
       "   visit_hour_14  visit_hour_15  visit_hour_16  visit_hour_17  visit_hour_18  \\\n",
       "0            0.0            0.0            0.0            0.0            0.0   \n",
       "1            0.0            0.0            1.0            0.0            0.0   \n",
       "2            0.0            0.0            0.0            0.0            0.0   \n",
       "3            0.0            0.0            0.0            0.0            0.0   \n",
       "4            0.0            0.0            0.0            0.0            0.0   \n",
       "\n",
       "   visit_hour_19  visit_hour_20  visit_hour_21  visit_hour_22  visit_hour_23  \n",
       "0            0.0            0.0            0.0            0.0            0.0  \n",
       "1            0.0            0.0            0.0            0.0            0.0  \n",
       "2            0.0            0.0            0.0            0.0            0.0  \n",
       "3            0.0            0.0            0.0            0.0            0.0  \n",
       "4            0.0            0.0            0.0            0.0            0.0  \n",
       "\n",
       "[5 rows x 143 columns]"
      ]
     },
     "execution_count": 45,
     "metadata": {},
     "output_type": "execute_result"
    }
   ],
   "source": [
    "df_primary.head()"
   ]
  },
  {
   "cell_type": "markdown",
   "metadata": {},
   "source": [
    "### Standardize Numeric Features"
   ]
  },
  {
   "cell_type": "code",
   "execution_count": null,
   "metadata": {
    "collapsed": true
   },
   "outputs": [],
   "source": []
  },
  {
   "cell_type": "markdown",
   "metadata": {},
   "source": [
    "### Remove Numeric Outliers"
   ]
  },
  {
   "cell_type": "code",
   "execution_count": 46,
   "metadata": {
    "collapsed": true
   },
   "outputs": [],
   "source": [
    "def is_outlier_mean(data, m = 3):\n",
    "    return abs(data - np.mean(data)) > m * np.std(data)"
   ]
  },
  {
   "cell_type": "code",
   "execution_count": null,
   "metadata": {
    "collapsed": true
   },
   "outputs": [],
   "source": [
    "rows_with_outliers = []\n",
    "for col in dropped_categorical_df.columns[:-1]:\n",
    "    rows_with_outliers.append(np.where(is_outlier_mean(raw_df[col])))\n",
    "    \n",
    "outlier_rows = list(unique([item for sublist in [row[0] for row in rows_with_outliers] for item in sublist]))\n"
   ]
  },
  {
   "cell_type": "code",
   "execution_count": null,
   "metadata": {
    "collapsed": true
   },
   "outputs": [],
   "source": [
    "removed_outliers_df = pd.DataFrame()\n",
    "removed_outliers_df = dropped_categorical_df.drop(dropped_categorical_df.index[outlier_rows])"
   ]
  },
  {
   "cell_type": "code",
   "execution_count": null,
   "metadata": {
    "collapsed": true
   },
   "outputs": [],
   "source": []
  },
  {
   "cell_type": "markdown",
   "metadata": {},
   "source": [
    "### Lift and Segement Size Function for Numeric Features"
   ]
  },
  {
   "cell_type": "code",
   "execution_count": null,
   "metadata": {
    "collapsed": true
   },
   "outputs": [],
   "source": []
  },
  {
   "cell_type": "code",
   "execution_count": null,
   "metadata": {
    "collapsed": true
   },
   "outputs": [],
   "source": []
  },
  {
   "cell_type": "code",
   "execution_count": null,
   "metadata": {
    "collapsed": true
   },
   "outputs": [],
   "source": []
  },
  {
   "cell_type": "code",
   "execution_count": null,
   "metadata": {
    "collapsed": true
   },
   "outputs": [],
   "source": []
  },
  {
   "cell_type": "code",
   "execution_count": null,
   "metadata": {
    "collapsed": true
   },
   "outputs": [],
   "source": []
  },
  {
   "cell_type": "code",
   "execution_count": null,
   "metadata": {
    "collapsed": true
   },
   "outputs": [],
   "source": []
  }
 ],
 "metadata": {
  "anaconda-cloud": {},
  "kernelspec": {
   "display_name": "Python [Root]",
   "language": "python",
   "name": "Python [Root]"
  },
  "language_info": {
   "codemirror_mode": {
    "name": "ipython",
    "version": 2
   },
   "file_extension": ".py",
   "mimetype": "text/x-python",
   "name": "python",
   "nbconvert_exporter": "python",
   "pygments_lexer": "ipython2",
   "version": "2.7.12"
  }
 },
 "nbformat": 4,
 "nbformat_minor": 0
}
